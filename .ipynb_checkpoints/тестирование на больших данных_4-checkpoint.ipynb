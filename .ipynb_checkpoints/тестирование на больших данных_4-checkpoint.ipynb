{
 "cells": [
  {
   "cell_type": "code",
   "execution_count": 1,
   "id": "6b443938",
   "metadata": {},
   "outputs": [],
   "source": [
    "# импорт необходимых элементов\n",
    "import statistics\n",
    "from scipy.stats import iqr\n",
    "import json\n",
    "from datetime import datetime\n",
    "with open('to_model/parametres.json', 'r') as f:\n",
    "    param_json = json.load(f)"
   ]
  },
  {
   "cell_type": "code",
   "execution_count": 2,
   "id": "1fb7276c",
   "metadata": {},
   "outputs": [
    {
     "data": {
      "text/plain": [
       "[('ful', Preprocess_ful()),\n",
       " ('transform',\n",
       "  FeatureUnion(transformer_list=[('dummy_15',\n",
       "                                  Pipeline(steps=[('column_dummy',\n",
       "                                                   Preprocessing(aggfunc='median',\n",
       "                                                                 column='15',\n",
       "                                                                 norm='norm')),\n",
       "                                                  ('one_hot',\n",
       "                                                   OneHotEncoder(handle_unknown='ignore',\n",
       "                                                                 sparse=False))])),\n",
       "                                 ('dummy_16',\n",
       "                                  Pipeline(steps=[('column_dummy',\n",
       "                                                   Preprocessing(aggfunc='median',\n",
       "                                                                 column='16',\n",
       "                                                                 norm='norm')),\n",
       "                                                  ('one_hot',\n",
       "                                                   OneHotEncoder(handle_unknown='ignore',\n",
       "                                                                 s...\n",
       "                                                                 norm='norm')),\n",
       "                                                  ('one_hot',\n",
       "                                                   OneHotEncoder(handle_unknown='ignore',\n",
       "                                                                 sparse=False))])),\n",
       "                                 ('5',\n",
       "                                  Pipeline(steps=[('column_5',\n",
       "                                                   Preprocessing(aggfunc='median',\n",
       "                                                                 column='5',\n",
       "                                                                 norm='transform')),\n",
       "                                                  ('standardscale',\n",
       "                                                   StandardScaler())])),\n",
       "                                 ('7',\n",
       "                                  Pipeline(steps=[('column_7',\n",
       "                                                   Preprocessing(aggfunc='median',\n",
       "                                                                 column='7',\n",
       "                                                                 norm='transform')),\n",
       "                                                  ('standardscale',\n",
       "                                                   StandardScaler())])), ...])),\n",
       " ('drop_column', Drop_column_lasso()),\n",
       " ('LR',\n",
       "  XGBClassifier(base_score=0.5, booster='gbtree', callbacks=None,\n",
       "                colsample_bylevel=1, colsample_bynode=1, colsample_bytree=1,\n",
       "                early_stopping_rounds=None, enable_categorical=False, eta=0.01,\n",
       "                eval_metric='auc', gamma=0, gpu_id=0, grow_policy='depthwise',\n",
       "                importance_type=None, interaction_constraints='',\n",
       "                learning_rate=0.00999999978, max_bin=256, max_cat_to_onehot=4,\n",
       "                max_delta_step=0, max_depth=5, max_leaves=0, min_child_weight=1,\n",
       "                missing=nan, monotone_constraints='()', n_estimators=500,\n",
       "                n_jobs=-1, num_parallel_tree=1, predictor='auto', random_state=13,\n",
       "                reg_alpha=0.0001, ...))]"
      ]
     },
     "execution_count": 2,
     "metadata": {},
     "output_type": "execute_result"
    }
   ],
   "source": [
    "# импорт модели без PCA\n",
    "\n",
    "import dill\n",
    "with open('models/model_dill.pkl', 'rb') as f:\n",
    "    pipeline = dill.load(f)\n",
    "pipeline.steps"
   ]
  },
  {
   "cell_type": "code",
   "execution_count": 3,
   "id": "47e427d9",
   "metadata": {},
   "outputs": [],
   "source": [
    "import pandas as pd\n",
    "import numpy as np\n",
    "import dask.dataframe as dd\n",
    "from sklearn.metrics import f1_score"
   ]
  },
  {
   "cell_type": "code",
   "execution_count": 4,
   "id": "042a732c",
   "metadata": {},
   "outputs": [
    {
     "data": {
      "text/plain": [
       "(831653, 259)"
      ]
     },
     "execution_count": 4,
     "metadata": {},
     "output_type": "execute_result"
    }
   ],
   "source": [
    "# загрузка датасета\n",
    "\n",
    "data = pd.read_csv('git_ignore_files/data_merge_asof.csv')\n",
    "data.shape"
   ]
  },
  {
   "cell_type": "code",
   "execution_count": 5,
   "id": "706a7d93",
   "metadata": {},
   "outputs": [],
   "source": [
    "# целевая переменная\n",
    "\n",
    "target = data['target']"
   ]
  },
  {
   "cell_type": "code",
   "execution_count": 6,
   "id": "cbb10ded",
   "metadata": {},
   "outputs": [
    {
     "name": "stdout",
     "output_type": "stream",
     "text": [
      "CPU times: user 1min 22s, sys: 26.5 s, total: 1min 48s\n",
      "Wall time: 1min 41s\n"
     ]
    }
   ],
   "source": [
    "# предикт всех данных\n",
    "\n",
    "%time x = pipeline.predict_proba(data.drop('target', axis=1))[:, 1]"
   ]
  },
  {
   "cell_type": "code",
   "execution_count": 7,
   "id": "f6db74c2",
   "metadata": {},
   "outputs": [
    {
     "data": {
      "text/plain": [
       "{'names': 'datas',\n",
       " 'drop_column': [75,\n",
       "  81,\n",
       "  85,\n",
       "  95,\n",
       "  139,\n",
       "  203,\n",
       "  41,\n",
       "  135,\n",
       "  10,\n",
       "  0,\n",
       "  54,\n",
       "  8,\n",
       "  91,\n",
       "  1,\n",
       "  3,\n",
       "  6,\n",
       "  136,\n",
       "  78,\n",
       "  44,\n",
       "  50,\n",
       "  39,\n",
       "  12,\n",
       "  38,\n",
       "  13,\n",
       "  40,\n",
       "  45,\n",
       "  101,\n",
       "  42,\n",
       "  2,\n",
       "  11,\n",
       "  209,\n",
       "  32,\n",
       "  4],\n",
       " 'xgb': 0.27,\n",
       " 'xgb_pca': 0.45}"
      ]
     },
     "execution_count": 7,
     "metadata": {},
     "output_type": "execute_result"
    }
   ],
   "source": [
    "# импорт для загрузки параметров\n",
    "\n",
    "from save_file_param import open_json\n",
    "\n",
    "param_json = open_json()\n",
    "param_json"
   ]
  },
  {
   "cell_type": "code",
   "execution_count": 8,
   "id": "419593e0",
   "metadata": {},
   "outputs": [
    {
     "data": {
      "text/plain": [
       "0.6663123035437689"
      ]
     },
     "execution_count": 8,
     "metadata": {},
     "output_type": "execute_result"
    }
   ],
   "source": [
    "# по сохраненному порогу делаем предикт\n",
    "\n",
    "y_pred = [1 if i > param_json['xgb'] else 0 for i in x]\n",
    "f1_score(target, y_pred, average='macro')"
   ]
  },
  {
   "cell_type": "code",
   "execution_count": null,
   "id": "dfd31e53",
   "metadata": {
    "scrolled": true
   },
   "outputs": [],
   "source": []
  },
  {
   "cell_type": "code",
   "execution_count": 9,
   "id": "6c1bbb6f",
   "metadata": {},
   "outputs": [],
   "source": [
    "# проверим на модели с PCA"
   ]
  },
  {
   "cell_type": "code",
   "execution_count": 11,
   "id": "18d23bc9",
   "metadata": {},
   "outputs": [
    {
     "data": {
      "text/plain": [
       "[('ful', Preprocess_ful()),\n",
       " ('transform',\n",
       "  FeatureUnion(transformer_list=[('dummy_15',\n",
       "                                  Pipeline(steps=[('column_dummy',\n",
       "                                                   Preprocessing(aggfunc='median',\n",
       "                                                                 column='15',\n",
       "                                                                 norm='norm')),\n",
       "                                                  ('one_hot',\n",
       "                                                   OneHotEncoder(handle_unknown='ignore',\n",
       "                                                                 sparse=False))])),\n",
       "                                 ('dummy_16',\n",
       "                                  Pipeline(steps=[('column_dummy',\n",
       "                                                   Preprocessing(aggfunc='median',\n",
       "                                                                 column='16',\n",
       "                                                                 norm='norm')),\n",
       "                                                  ('one_hot',\n",
       "                                                   OneHotEncoder(handle_unknown='ignore',\n",
       "                                                                 s...\n",
       "                                                                 norm='norm')),\n",
       "                                                  ('one_hot',\n",
       "                                                   OneHotEncoder(handle_unknown='ignore',\n",
       "                                                                 sparse=False))])),\n",
       "                                 ('5',\n",
       "                                  Pipeline(steps=[('column_5',\n",
       "                                                   Preprocessing(aggfunc='median',\n",
       "                                                                 column='5',\n",
       "                                                                 norm='transform')),\n",
       "                                                  ('standardscale',\n",
       "                                                   StandardScaler())])),\n",
       "                                 ('7',\n",
       "                                  Pipeline(steps=[('column_7',\n",
       "                                                   Preprocessing(aggfunc='median',\n",
       "                                                                 column='7',\n",
       "                                                                 norm='transform')),\n",
       "                                                  ('standardscale',\n",
       "                                                   StandardScaler())])), ...])),\n",
       " ('drop_column', Drop_column_lasso()),\n",
       " ('pca', PCA(n_components=81)),\n",
       " ('LR',\n",
       "  XGBClassifier(base_score=0.5, booster='gbtree', callbacks=None,\n",
       "                colsample_bylevel=1, colsample_bynode=1, colsample_bytree=1,\n",
       "                early_stopping_rounds=None, enable_categorical=False, eta=0.01,\n",
       "                eval_metric='auc', gamma=0, gpu_id=0, grow_policy='depthwise',\n",
       "                importance_type=None, interaction_constraints='',\n",
       "                learning_rate=0.00999999978, max_bin=256, max_cat_to_onehot=4,\n",
       "                max_delta_step=0, max_depth=11, max_leaves=0, min_child_weight=1,\n",
       "                missing=nan, monotone_constraints='()', n_estimators=50,\n",
       "                n_jobs=-1, num_parallel_tree=1, predictor='auto', random_state=13,\n",
       "                reg_alpha=0.05, ...))]"
      ]
     },
     "execution_count": 11,
     "metadata": {},
     "output_type": "execute_result"
    }
   ],
   "source": [
    "# загрузка модели с PCA\n",
    "\n",
    "with open('models/model_pca_dill.pkl', 'rb') as f:\n",
    "    pipeline_pca = dill.load(f)\n",
    "pipeline_pca.steps"
   ]
  },
  {
   "cell_type": "code",
   "execution_count": 12,
   "id": "4c5aaee9",
   "metadata": {},
   "outputs": [
    {
     "data": {
      "text/plain": [
       "0.6647542467610601"
      ]
     },
     "execution_count": 12,
     "metadata": {},
     "output_type": "execute_result"
    }
   ],
   "source": [
    "# предикт модели с PCA\n",
    "\n",
    "y_pred = [1 if i > param_json['xgb_pca'] else 0 for i in pipeline_pca.predict_proba(data)[:, 1]]\n",
    "f1_score(target, y_pred, average='macro')"
   ]
  },
  {
   "cell_type": "markdown",
   "id": "33ba7694",
   "metadata": {},
   "source": [
    "# тк модель с PCA показывает результат не хуже, а к метрикам на тренировке гораздо ближе - далее будем испольовать ее"
   ]
  },
  {
   "cell_type": "code",
   "execution_count": null,
   "id": "8b712210",
   "metadata": {},
   "outputs": [],
   "source": []
  }
 ],
 "metadata": {
  "kernelspec": {
   "display_name": "Python 3 (ipykernel)",
   "language": "python",
   "name": "python3"
  },
  "language_info": {
   "codemirror_mode": {
    "name": "ipython",
    "version": 3
   },
   "file_extension": ".py",
   "mimetype": "text/x-python",
   "name": "python",
   "nbconvert_exporter": "python",
   "pygments_lexer": "ipython3",
   "version": "3.10.4"
  }
 },
 "nbformat": 4,
 "nbformat_minor": 5
}
