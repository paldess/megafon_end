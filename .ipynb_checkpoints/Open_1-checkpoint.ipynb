{
 "cells": [
  {
   "cell_type": "code",
   "execution_count": null,
   "id": "b5aa8467",
   "metadata": {},
   "outputs": [],
   "source": [
    "import pandas as pd\n",
    "import numpy as np\n",
    "import dask.dataframe as dd"
   ]
  },
  {
   "cell_type": "code",
   "execution_count": null,
   "id": "843d9ae6",
   "metadata": {},
   "outputs": [],
   "source": [
    "# загрузка датасета 20 гб\n",
    "\n",
    "data = dd.read_csv('git_ignore_files/features.csv', sep='\\t')"
   ]
  },
  {
   "cell_type": "code",
   "execution_count": null,
   "id": "a99aa428",
   "metadata": {},
   "outputs": [],
   "source": [
    "# загрузка доп датасетов трайн тест\n",
    "\n",
    "data_train = pd.read_csv('git_ignore_files/data_train.csv')\n",
    "data_test = pd.read_csv('git_ignore_files/data_test.csv')"
   ]
  },
  {
   "cell_type": "code",
   "execution_count": null,
   "id": "62e0d1ca",
   "metadata": {},
   "outputs": [],
   "source": [
    "# длины доп датасетов\n",
    "\n",
    "len(data_train), len(data_test)"
   ]
  },
  {
   "cell_type": "code",
   "execution_count": null,
   "id": "f3b9daec",
   "metadata": {},
   "outputs": [],
   "source": [
    "# списки id-шников доп датасетов\n",
    "\n",
    "list_id_train = list(data_train['id'].unique())\n",
    "list_id_test = list(data_test['id'].unique())"
   ]
  },
  {
   "cell_type": "code",
   "execution_count": null,
   "id": "7f80bee7",
   "metadata": {},
   "outputs": [],
   "source": [
    "# данные из основного датасета с id-шниками из дата трайн\n",
    "\n",
    "data = data[data['id'].isin(list_id_train)].compute()\n",
    "len(data)"
   ]
  },
  {
   "cell_type": "code",
   "execution_count": null,
   "id": "2b76287e",
   "metadata": {},
   "outputs": [],
   "source": [
    "# оставим по 1 строке данных об абоненте, последние по времени, \n",
    "# подразумевая что в данном датасете указано время получения данных\n",
    "\n",
    "data = data.sort_values('buy_time').drop_duplicates('id', keep='last')"
   ]
  },
  {
   "cell_type": "code",
   "execution_count": null,
   "id": "6b9a8fdd",
   "metadata": {},
   "outputs": [],
   "source": [
    "data = pd.merge(data_train, data, how='left', left_on='id', right_on='id')"
   ]
  },
  {
   "cell_type": "code",
   "execution_count": null,
   "id": "3979a914",
   "metadata": {},
   "outputs": [],
   "source": [
    "lens = data[data['target'] == 0].shape[0] - data[data['target'] == 1].shape[0]\n",
    "print(lens)\n",
    "data.drop(np.random.choice(data[data['target'] == 0].index, replace=False, size=lens), axis=0, inplace=True)\n",
    "data[data['target'] == 1].shape[0] / data.shape[0]"
   ]
  },
  {
   "cell_type": "code",
   "execution_count": null,
   "id": "fdb7e610",
   "metadata": {},
   "outputs": [],
   "source": [
    "data.shape"
   ]
  },
  {
   "cell_type": "code",
   "execution_count": null,
   "id": "0a092fbd",
   "metadata": {},
   "outputs": [],
   "source": [
    "# data.to_csv('data_group_train.csv', index=False)"
   ]
  }
 ],
 "metadata": {
  "kernelspec": {
   "display_name": "Python 3 (ipykernel)",
   "language": "python",
   "name": "python3"
  },
  "language_info": {
   "codemirror_mode": {
    "name": "ipython",
    "version": 3
   },
   "file_extension": ".py",
   "mimetype": "text/x-python",
   "name": "python",
   "nbconvert_exporter": "python",
   "pygments_lexer": "ipython3",
   "version": "3.10.4"
  }
 },
 "nbformat": 4,
 "nbformat_minor": 5
}
