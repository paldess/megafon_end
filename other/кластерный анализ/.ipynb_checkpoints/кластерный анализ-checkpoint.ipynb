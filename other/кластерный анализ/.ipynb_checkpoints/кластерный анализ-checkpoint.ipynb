{
 "cells": [
  {
   "cell_type": "code",
   "execution_count": 1,
   "metadata": {
    "executionInfo": {
     "elapsed": 454,
     "status": "ok",
     "timestamp": 1652686823990,
     "user": {
      "displayName": "Павел Маков",
      "userId": "15927625649665118072"
     },
     "user_tz": -180
    },
    "id": "f68Gg7CImP0P"
   },
   "outputs": [],
   "source": [
    "import pandas as pd\n",
    "import numpy as np\n",
    "import matplotlib.pyplot as plt\n",
    "%matplotlib inline"
   ]
  },
  {
   "cell_type": "code",
   "execution_count": 3,
   "metadata": {
    "colab": {
     "base_uri": "https://localhost:8080/",
     "height": 317
    },
    "executionInfo": {
     "elapsed": 20464,
     "status": "ok",
     "timestamp": 1652686848363,
     "user": {
      "displayName": "Павел Маков",
      "userId": "15927625649665118072"
     },
     "user_tz": -180
    },
    "id": "MDcVLa2tmn4j",
    "outputId": "fc03f172-19cc-452f-9f85-32507581a6c1"
   },
   "outputs": [
    {
     "data": {
      "text/html": [
       "<div>\n",
       "<style scoped>\n",
       "    .dataframe tbody tr th:only-of-type {\n",
       "        vertical-align: middle;\n",
       "    }\n",
       "\n",
       "    .dataframe tbody tr th {\n",
       "        vertical-align: top;\n",
       "    }\n",
       "\n",
       "    .dataframe thead th {\n",
       "        text-align: right;\n",
       "    }\n",
       "</style>\n",
       "<table border=\"1\" class=\"dataframe\">\n",
       "  <thead>\n",
       "    <tr style=\"text-align: right;\">\n",
       "      <th></th>\n",
       "      <th>Unnamed: 0_x</th>\n",
       "      <th>id</th>\n",
       "      <th>vas_id</th>\n",
       "      <th>buy_time</th>\n",
       "      <th>target</th>\n",
       "      <th>Unnamed: 0_y</th>\n",
       "      <th>0</th>\n",
       "      <th>1</th>\n",
       "      <th>2</th>\n",
       "      <th>3</th>\n",
       "      <th>...</th>\n",
       "      <th>243</th>\n",
       "      <th>244</th>\n",
       "      <th>245</th>\n",
       "      <th>246</th>\n",
       "      <th>247</th>\n",
       "      <th>248</th>\n",
       "      <th>249</th>\n",
       "      <th>250</th>\n",
       "      <th>251</th>\n",
       "      <th>252</th>\n",
       "    </tr>\n",
       "  </thead>\n",
       "  <tbody>\n",
       "    <tr>\n",
       "      <th>0</th>\n",
       "      <td>578818</td>\n",
       "      <td>2582523</td>\n",
       "      <td>2.0</td>\n",
       "      <td>1531083600</td>\n",
       "      <td>0.0</td>\n",
       "      <td>3360134</td>\n",
       "      <td>314.560029</td>\n",
       "      <td>9.290888</td>\n",
       "      <td>342.989214</td>\n",
       "      <td>7.523202</td>\n",
       "      <td>...</td>\n",
       "      <td>6488.626154</td>\n",
       "      <td>-574.770792</td>\n",
       "      <td>-24.996269</td>\n",
       "      <td>121.369552</td>\n",
       "      <td>142.252276</td>\n",
       "      <td>-16.832889</td>\n",
       "      <td>-0.694428</td>\n",
       "      <td>-11.175933</td>\n",
       "      <td>-0.45614</td>\n",
       "      <td>0.0</td>\n",
       "    </tr>\n",
       "    <tr>\n",
       "      <th>1</th>\n",
       "      <td>603994</td>\n",
       "      <td>1292549</td>\n",
       "      <td>2.0</td>\n",
       "      <td>1531083600</td>\n",
       "      <td>0.0</td>\n",
       "      <td>2915346</td>\n",
       "      <td>93.880029</td>\n",
       "      <td>-217.499112</td>\n",
       "      <td>79.939214</td>\n",
       "      <td>-270.106798</td>\n",
       "      <td>...</td>\n",
       "      <td>-977.373846</td>\n",
       "      <td>-613.770792</td>\n",
       "      <td>-25.996269</td>\n",
       "      <td>-37.630448</td>\n",
       "      <td>-306.747724</td>\n",
       "      <td>-25.832889</td>\n",
       "      <td>-0.694428</td>\n",
       "      <td>-12.175933</td>\n",
       "      <td>-0.45614</td>\n",
       "      <td>0.0</td>\n",
       "    </tr>\n",
       "    <tr>\n",
       "      <th>2</th>\n",
       "      <td>293389</td>\n",
       "      <td>4053116</td>\n",
       "      <td>1.0</td>\n",
       "      <td>1531083600</td>\n",
       "      <td>0.0</td>\n",
       "      <td>1569112</td>\n",
       "      <td>125.110029</td>\n",
       "      <td>152.190888</td>\n",
       "      <td>111.169214</td>\n",
       "      <td>107.213202</td>\n",
       "      <td>...</td>\n",
       "      <td>-956.373846</td>\n",
       "      <td>-613.770792</td>\n",
       "      <td>-18.996269</td>\n",
       "      <td>761.369552</td>\n",
       "      <td>-213.747724</td>\n",
       "      <td>26.167111</td>\n",
       "      <td>-0.694428</td>\n",
       "      <td>39.824067</td>\n",
       "      <td>-0.45614</td>\n",
       "      <td>1.0</td>\n",
       "    </tr>\n",
       "    <tr>\n",
       "      <th>3</th>\n",
       "      <td>293387</td>\n",
       "      <td>4158361</td>\n",
       "      <td>2.0</td>\n",
       "      <td>1531083600</td>\n",
       "      <td>0.0</td>\n",
       "      <td>597622</td>\n",
       "      <td>-7.829971</td>\n",
       "      <td>-266.839112</td>\n",
       "      <td>-20.500786</td>\n",
       "      <td>-304.196798</td>\n",
       "      <td>...</td>\n",
       "      <td>1257.626154</td>\n",
       "      <td>495.229208</td>\n",
       "      <td>-19.996269</td>\n",
       "      <td>-37.630448</td>\n",
       "      <td>-108.747724</td>\n",
       "      <td>-25.832889</td>\n",
       "      <td>-0.694428</td>\n",
       "      <td>-12.175933</td>\n",
       "      <td>-0.45614</td>\n",
       "      <td>1.0</td>\n",
       "    </tr>\n",
       "    <tr>\n",
       "      <th>4</th>\n",
       "      <td>254350</td>\n",
       "      <td>3754468</td>\n",
       "      <td>4.0</td>\n",
       "      <td>1531083600</td>\n",
       "      <td>0.0</td>\n",
       "      <td>2376979</td>\n",
       "      <td>83.620029</td>\n",
       "      <td>535.610888</td>\n",
       "      <td>72.219214</td>\n",
       "      <td>503.343202</td>\n",
       "      <td>...</td>\n",
       "      <td>-977.373846</td>\n",
       "      <td>-613.770792</td>\n",
       "      <td>-25.996269</td>\n",
       "      <td>-37.630448</td>\n",
       "      <td>-306.747724</td>\n",
       "      <td>-25.832889</td>\n",
       "      <td>-0.694428</td>\n",
       "      <td>-12.175933</td>\n",
       "      <td>-0.45614</td>\n",
       "      <td>0.0</td>\n",
       "    </tr>\n",
       "  </tbody>\n",
       "</table>\n",
       "<p>5 rows × 259 columns</p>\n",
       "</div>"
      ],
      "text/plain": [
       "   Unnamed: 0_x       id  vas_id    buy_time  target  Unnamed: 0_y  \\\n",
       "0        578818  2582523     2.0  1531083600     0.0       3360134   \n",
       "1        603994  1292549     2.0  1531083600     0.0       2915346   \n",
       "2        293389  4053116     1.0  1531083600     0.0       1569112   \n",
       "3        293387  4158361     2.0  1531083600     0.0        597622   \n",
       "4        254350  3754468     4.0  1531083600     0.0       2376979   \n",
       "\n",
       "            0           1           2           3  ...          243  \\\n",
       "0  314.560029    9.290888  342.989214    7.523202  ...  6488.626154   \n",
       "1   93.880029 -217.499112   79.939214 -270.106798  ...  -977.373846   \n",
       "2  125.110029  152.190888  111.169214  107.213202  ...  -956.373846   \n",
       "3   -7.829971 -266.839112  -20.500786 -304.196798  ...  1257.626154   \n",
       "4   83.620029  535.610888   72.219214  503.343202  ...  -977.373846   \n",
       "\n",
       "          244        245         246         247        248       249  \\\n",
       "0 -574.770792 -24.996269  121.369552  142.252276 -16.832889 -0.694428   \n",
       "1 -613.770792 -25.996269  -37.630448 -306.747724 -25.832889 -0.694428   \n",
       "2 -613.770792 -18.996269  761.369552 -213.747724  26.167111 -0.694428   \n",
       "3  495.229208 -19.996269  -37.630448 -108.747724 -25.832889 -0.694428   \n",
       "4 -613.770792 -25.996269  -37.630448 -306.747724 -25.832889 -0.694428   \n",
       "\n",
       "         250      251  252  \n",
       "0 -11.175933 -0.45614  0.0  \n",
       "1 -12.175933 -0.45614  0.0  \n",
       "2  39.824067 -0.45614  1.0  \n",
       "3 -12.175933 -0.45614  1.0  \n",
       "4 -12.175933 -0.45614  0.0  \n",
       "\n",
       "[5 rows x 259 columns]"
      ]
     },
     "execution_count": 3,
     "metadata": {},
     "output_type": "execute_result"
    }
   ],
   "source": [
    "data_load = pd.read_csv('~/megafon_end/git_ignore_files/data_merge_asof.csv')[:10000]\n",
    "data_load.head()"
   ]
  },
  {
   "cell_type": "code",
   "execution_count": 4,
   "metadata": {
    "colab": {
     "base_uri": "https://localhost:8080/",
     "height": 237
    },
    "executionInfo": {
     "elapsed": 9,
     "status": "ok",
     "timestamp": 1652686848365,
     "user": {
      "displayName": "Павел Маков",
      "userId": "15927625649665118072"
     },
     "user_tz": -180
    },
    "id": "q4z3I8UWm6Y-",
    "outputId": "130beb17-653c-46ab-ad11-dc4854acea4b"
   },
   "outputs": [
    {
     "data": {
      "text/html": [
       "<div>\n",
       "<style scoped>\n",
       "    .dataframe tbody tr th:only-of-type {\n",
       "        vertical-align: middle;\n",
       "    }\n",
       "\n",
       "    .dataframe tbody tr th {\n",
       "        vertical-align: top;\n",
       "    }\n",
       "\n",
       "    .dataframe thead th {\n",
       "        text-align: right;\n",
       "    }\n",
       "</style>\n",
       "<table border=\"1\" class=\"dataframe\">\n",
       "  <thead>\n",
       "    <tr style=\"text-align: right;\">\n",
       "      <th></th>\n",
       "      <th>1</th>\n",
       "      <th>2</th>\n",
       "      <th>3</th>\n",
       "      <th>4</th>\n",
       "      <th>5</th>\n",
       "      <th>6</th>\n",
       "      <th>7</th>\n",
       "      <th>8</th>\n",
       "      <th>9</th>\n",
       "      <th>10</th>\n",
       "      <th>...</th>\n",
       "      <th>243</th>\n",
       "      <th>244</th>\n",
       "      <th>245</th>\n",
       "      <th>246</th>\n",
       "      <th>247</th>\n",
       "      <th>248</th>\n",
       "      <th>249</th>\n",
       "      <th>250</th>\n",
       "      <th>251</th>\n",
       "      <th>252</th>\n",
       "    </tr>\n",
       "  </thead>\n",
       "  <tbody>\n",
       "    <tr>\n",
       "      <th>0</th>\n",
       "      <td>9.290888</td>\n",
       "      <td>342.989214</td>\n",
       "      <td>7.523202</td>\n",
       "      <td>337.571754</td>\n",
       "      <td>-13.58179</td>\n",
       "      <td>-16.08618</td>\n",
       "      <td>-65.076097</td>\n",
       "      <td>-6.78366</td>\n",
       "      <td>-30.006538</td>\n",
       "      <td>-2.736081</td>\n",
       "      <td>...</td>\n",
       "      <td>6488.626154</td>\n",
       "      <td>-574.770792</td>\n",
       "      <td>-24.996269</td>\n",
       "      <td>121.369552</td>\n",
       "      <td>142.252276</td>\n",
       "      <td>-16.832889</td>\n",
       "      <td>-0.694428</td>\n",
       "      <td>-11.175933</td>\n",
       "      <td>-0.45614</td>\n",
       "      <td>0.0</td>\n",
       "    </tr>\n",
       "    <tr>\n",
       "      <th>1</th>\n",
       "      <td>-217.499112</td>\n",
       "      <td>79.939214</td>\n",
       "      <td>-270.106798</td>\n",
       "      <td>74.521754</td>\n",
       "      <td>-291.21179</td>\n",
       "      <td>-16.08618</td>\n",
       "      <td>-65.076097</td>\n",
       "      <td>-6.78366</td>\n",
       "      <td>-30.006538</td>\n",
       "      <td>-2.736081</td>\n",
       "      <td>...</td>\n",
       "      <td>-977.373846</td>\n",
       "      <td>-613.770792</td>\n",
       "      <td>-25.996269</td>\n",
       "      <td>-37.630448</td>\n",
       "      <td>-306.747724</td>\n",
       "      <td>-25.832889</td>\n",
       "      <td>-0.694428</td>\n",
       "      <td>-12.175933</td>\n",
       "      <td>-0.45614</td>\n",
       "      <td>0.0</td>\n",
       "    </tr>\n",
       "    <tr>\n",
       "      <th>2</th>\n",
       "      <td>152.190888</td>\n",
       "      <td>111.169214</td>\n",
       "      <td>107.213202</td>\n",
       "      <td>105.751754</td>\n",
       "      <td>86.10821</td>\n",
       "      <td>-16.08618</td>\n",
       "      <td>-56.686097</td>\n",
       "      <td>-6.78366</td>\n",
       "      <td>-30.006538</td>\n",
       "      <td>-2.736081</td>\n",
       "      <td>...</td>\n",
       "      <td>-956.373846</td>\n",
       "      <td>-613.770792</td>\n",
       "      <td>-18.996269</td>\n",
       "      <td>761.369552</td>\n",
       "      <td>-213.747724</td>\n",
       "      <td>26.167111</td>\n",
       "      <td>-0.694428</td>\n",
       "      <td>39.824067</td>\n",
       "      <td>-0.45614</td>\n",
       "      <td>1.0</td>\n",
       "    </tr>\n",
       "  </tbody>\n",
       "</table>\n",
       "<p>3 rows × 252 columns</p>\n",
       "</div>"
      ],
      "text/plain": [
       "            1           2           3           4          5         6  \\\n",
       "0    9.290888  342.989214    7.523202  337.571754  -13.58179 -16.08618   \n",
       "1 -217.499112   79.939214 -270.106798   74.521754 -291.21179 -16.08618   \n",
       "2  152.190888  111.169214  107.213202  105.751754   86.10821 -16.08618   \n",
       "\n",
       "           7        8          9        10  ...          243         244  \\\n",
       "0 -65.076097 -6.78366 -30.006538 -2.736081  ...  6488.626154 -574.770792   \n",
       "1 -65.076097 -6.78366 -30.006538 -2.736081  ...  -977.373846 -613.770792   \n",
       "2 -56.686097 -6.78366 -30.006538 -2.736081  ...  -956.373846 -613.770792   \n",
       "\n",
       "         245         246         247        248       249        250      251  \\\n",
       "0 -24.996269  121.369552  142.252276 -16.832889 -0.694428 -11.175933 -0.45614   \n",
       "1 -25.996269  -37.630448 -306.747724 -25.832889 -0.694428 -12.175933 -0.45614   \n",
       "2 -18.996269  761.369552 -213.747724  26.167111 -0.694428  39.824067 -0.45614   \n",
       "\n",
       "   252  \n",
       "0  0.0  \n",
       "1  0.0  \n",
       "2  1.0  \n",
       "\n",
       "[3 rows x 252 columns]"
      ]
     },
     "execution_count": 4,
     "metadata": {},
     "output_type": "execute_result"
    }
   ],
   "source": [
    "target = data_load['target']\n",
    "data = data_load.iloc[:, 7:]\n",
    "data.head(3)"
   ]
  },
  {
   "cell_type": "code",
   "execution_count": 5,
   "metadata": {
    "colab": {
     "base_uri": "https://localhost:8080/"
    },
    "executionInfo": {
     "elapsed": 2778,
     "status": "ok",
     "timestamp": 1652688899125,
     "user": {
      "displayName": "Павел Маков",
      "userId": "15927625649665118072"
     },
     "user_tz": -180
    },
    "id": "Md9XquQWnHzM",
    "outputId": "dfcfd1a1-cf32-4bfd-a481-ba5d37a8a238"
   },
   "outputs": [
    {
     "name": "stdout",
     "output_type": "stream",
     "text": [
      "KMeans(n_clusters=4, random_state=13)\n"
     ]
    }
   ],
   "source": [
    "from sklearn.cluster import SpectralClustering, KMeans\n",
    "from sklearn.decomposition import PCA\n",
    "data_pca = PCA(0.999).fit_transform(data)\n",
    "clustering = KMeans(n_clusters=4, random_state=13 ).fit(data)\n",
    "print(clustering)\n"
   ]
  },
  {
   "cell_type": "code",
   "execution_count": 6,
   "metadata": {
    "colab": {
     "base_uri": "https://localhost:8080/"
    },
    "executionInfo": {
     "elapsed": 5,
     "status": "ok",
     "timestamp": 1652688899126,
     "user": {
      "displayName": "Павел Маков",
      "userId": "15927625649665118072"
     },
     "user_tz": -180
    },
    "id": "n05o9gSFp9m1",
    "outputId": "3f940b95-a13e-42c5-fe21-c4f85cf174a1"
   },
   "outputs": [
    {
     "data": {
      "text/plain": [
       "array([[-7.69635093e+01, -7.89703415e+01, -9.41708897e+01, ...,\n",
       "         2.30108317e+00, -1.05315947e-01,  5.71335646e-01],\n",
       "       [ 1.59798451e+02,  1.44321341e+02,  1.88668420e+02, ...,\n",
       "         2.29894106e+00,  6.98232647e-02,  3.83584590e-01],\n",
       "       [ 4.74630669e+01,  1.15638969e+02,  6.26859368e+01, ...,\n",
       "         3.20141746e+00, -1.23351659e-01,  2.46524939e-01],\n",
       "       [ 3.11336625e+01, -6.32490411e+01,  2.69597979e+01, ...,\n",
       "        -3.25202027e+00, -1.34629587e-01,  3.56407323e-01]])"
      ]
     },
     "execution_count": 6,
     "metadata": {},
     "output_type": "execute_result"
    }
   ],
   "source": [
    "clustering.cluster_centers_"
   ]
  },
  {
   "cell_type": "code",
   "execution_count": 7,
   "metadata": {
    "executionInfo": {
     "elapsed": 21340,
     "status": "ok",
     "timestamp": 1652688980316,
     "user": {
      "displayName": "Павел Маков",
      "userId": "15927625649665118072"
     },
     "user_tz": -180
    },
    "id": "mdOEfhd-xYee"
   },
   "outputs": [],
   "source": [
    "df = pd.DataFrame(columns = range(clustering.cluster_centers_.shape[0]))\n",
    "\n",
    "for i in data.values:\n",
    "  x = []\n",
    "  for j in clustering.cluster_centers_:\n",
    "    x.append(np.linalg.norm(i - j))\n",
    "  df.loc[df.shape[0]] = x\n",
    "df['id'] = data_load['id']\n",
    "df['target'] = target"
   ]
  },
  {
   "cell_type": "code",
   "execution_count": 10,
   "metadata": {
    "executionInfo": {
     "elapsed": 3272,
     "status": "ok",
     "timestamp": 1652688989591,
     "user": {
      "displayName": "Павел Маков",
      "userId": "15927625649665118072"
     },
     "user_tz": -180
    },
    "id": "TxFNw61ayRAY"
   },
   "outputs": [],
   "source": [
    "df.to_excel('кластерный анализ.xlsx')"
   ]
  },
  {
   "cell_type": "markdown",
   "metadata": {
    "id": "ux-l31Vd7lJl"
   },
   "source": [
    "# далее в таблицах удобнее сортировать, листать и рассматривать."
   ]
  },
  {
   "cell_type": "markdown",
   "metadata": {
    "id": "ywmliMXu8raH"
   },
   "source": [
    "# кластерный анализ не привел ни к каким резуьтатам. из результирующих данных лишь target. по данному столбцу кластеризация не приводит к более менее видимым резуьтатам."
   ]
  },
  {
   "cell_type": "code",
   "execution_count": null,
   "metadata": {
    "id": "j0B1d2t62QCQ"
   },
   "outputs": [],
   "source": []
  }
 ],
 "metadata": {
  "colab": {
   "authorship_tag": "ABX9TyMlAzqJ+wgl5QnqO6jbbjlN",
   "collapsed_sections": [],
   "name": "кластерный анализ.ipynb",
   "provenance": []
  },
  "kernelspec": {
   "display_name": "venv_megafon",
   "language": "python",
   "name": "venv_megafon"
  },
  "language_info": {
   "codemirror_mode": {
    "name": "ipython",
    "version": 3
   },
   "file_extension": ".py",
   "mimetype": "text/x-python",
   "name": "python",
   "nbconvert_exporter": "python",
   "pygments_lexer": "ipython3",
   "version": "3.9.12"
  }
 },
 "nbformat": 4,
 "nbformat_minor": 1
}
