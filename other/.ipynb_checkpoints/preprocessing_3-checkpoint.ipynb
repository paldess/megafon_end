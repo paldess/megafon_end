{
 "cells": [
  {
   "cell_type": "code",
   "execution_count": 1,
   "metadata": {
    "id": "n850V8xRqW0t"
   },
   "outputs": [],
   "source": [
    "import numpy as np\n",
    "import pandas as pd\n",
    "import matplotlib.pyplot as plt\n",
    "%matplotlib inline\n",
    "import seaborn as sns\n",
    "import warnings\n",
    "warnings.filterwarnings('ignore')\n",
    "import json"
   ]
  },
  {
   "cell_type": "code",
   "execution_count": 2,
   "metadata": {
    "id": "RbdEQEZnyXej"
   },
   "outputs": [],
   "source": [
    "from sklearn.preprocessing import StandardScaler, MinMaxScaler, OneHotEncoder\n",
    "from sklearn.linear_model import LogisticRegression\n",
    "from sklearn.model_selection import train_test_split"
   ]
  },
  {
   "cell_type": "code",
   "execution_count": 3,
   "metadata": {
    "colab": {
     "base_uri": "https://localhost:8080/"
    },
    "id": "R12JgGb3qlFu",
    "outputId": "fbdc23e0-4eec-4060-f062-21adcb63cd83"
   },
   "outputs": [],
   "source": [
    "# from google.colab import drive\n",
    "# drive.mount('/content/drive/')"
   ]
  },
  {
   "cell_type": "code",
   "execution_count": 4,
   "metadata": {
    "id": "DBSf6scUqu6i",
    "scrolled": false
   },
   "outputs": [
    {
     "data": {
      "text/html": [
       "<div>\n",
       "<style scoped>\n",
       "    .dataframe tbody tr th:only-of-type {\n",
       "        vertical-align: middle;\n",
       "    }\n",
       "\n",
       "    .dataframe tbody tr th {\n",
       "        vertical-align: top;\n",
       "    }\n",
       "\n",
       "    .dataframe thead th {\n",
       "        text-align: right;\n",
       "    }\n",
       "</style>\n",
       "<table border=\"1\" class=\"dataframe\">\n",
       "  <thead>\n",
       "    <tr style=\"text-align: right;\">\n",
       "      <th></th>\n",
       "      <th>Unnamed: 0_x</th>\n",
       "      <th>id</th>\n",
       "      <th>vas_id</th>\n",
       "      <th>buy_time</th>\n",
       "      <th>target</th>\n",
       "      <th>Unnamed: 0_y</th>\n",
       "      <th>0</th>\n",
       "      <th>1</th>\n",
       "      <th>2</th>\n",
       "      <th>3</th>\n",
       "      <th>...</th>\n",
       "      <th>243</th>\n",
       "      <th>244</th>\n",
       "      <th>245</th>\n",
       "      <th>246</th>\n",
       "      <th>247</th>\n",
       "      <th>248</th>\n",
       "      <th>249</th>\n",
       "      <th>250</th>\n",
       "      <th>251</th>\n",
       "      <th>252</th>\n",
       "    </tr>\n",
       "  </thead>\n",
       "  <tbody>\n",
       "    <tr>\n",
       "      <th>0</th>\n",
       "      <td>603994</td>\n",
       "      <td>1292549</td>\n",
       "      <td>2.0</td>\n",
       "      <td>1531083600</td>\n",
       "      <td>0.0</td>\n",
       "      <td>2915346</td>\n",
       "      <td>93.880029</td>\n",
       "      <td>-217.499112</td>\n",
       "      <td>79.939214</td>\n",
       "      <td>-270.106798</td>\n",
       "      <td>...</td>\n",
       "      <td>-977.373846</td>\n",
       "      <td>-613.770792</td>\n",
       "      <td>-25.996269</td>\n",
       "      <td>-37.630448</td>\n",
       "      <td>-306.747724</td>\n",
       "      <td>-25.832889</td>\n",
       "      <td>-0.694428</td>\n",
       "      <td>-12.175933</td>\n",
       "      <td>-0.45614</td>\n",
       "      <td>0.0</td>\n",
       "    </tr>\n",
       "    <tr>\n",
       "      <th>1</th>\n",
       "      <td>703506</td>\n",
       "      <td>1975491</td>\n",
       "      <td>4.0</td>\n",
       "      <td>1531083600</td>\n",
       "      <td>0.0</td>\n",
       "      <td>3256495</td>\n",
       "      <td>136.250029</td>\n",
       "      <td>-175.129112</td>\n",
       "      <td>124.849214</td>\n",
       "      <td>-225.196798</td>\n",
       "      <td>...</td>\n",
       "      <td>-892.373846</td>\n",
       "      <td>-528.770792</td>\n",
       "      <td>-24.996269</td>\n",
       "      <td>-36.630448</td>\n",
       "      <td>-191.747724</td>\n",
       "      <td>-22.832889</td>\n",
       "      <td>-0.694428</td>\n",
       "      <td>-12.175933</td>\n",
       "      <td>2.54386</td>\n",
       "      <td>0.0</td>\n",
       "    </tr>\n",
       "    <tr>\n",
       "      <th>2</th>\n",
       "      <td>604076</td>\n",
       "      <td>3102489</td>\n",
       "      <td>1.0</td>\n",
       "      <td>1531083600</td>\n",
       "      <td>1.0</td>\n",
       "      <td>232405</td>\n",
       "      <td>-96.799971</td>\n",
       "      <td>-408.179112</td>\n",
       "      <td>-110.740786</td>\n",
       "      <td>-460.786798</td>\n",
       "      <td>...</td>\n",
       "      <td>-443.373846</td>\n",
       "      <td>-80.770792</td>\n",
       "      <td>37.003731</td>\n",
       "      <td>21.369552</td>\n",
       "      <td>142.252276</td>\n",
       "      <td>8.167111</td>\n",
       "      <td>-0.694428</td>\n",
       "      <td>19.824067</td>\n",
       "      <td>1.54386</td>\n",
       "      <td>1.0</td>\n",
       "    </tr>\n",
       "    <tr>\n",
       "      <th>3</th>\n",
       "      <td>758323</td>\n",
       "      <td>3532789</td>\n",
       "      <td>1.0</td>\n",
       "      <td>1531083600</td>\n",
       "      <td>0.0</td>\n",
       "      <td>588714</td>\n",
       "      <td>-30.349971</td>\n",
       "      <td>-139.569112</td>\n",
       "      <td>-44.290786</td>\n",
       "      <td>-192.176798</td>\n",
       "      <td>...</td>\n",
       "      <td>-977.373846</td>\n",
       "      <td>-613.770792</td>\n",
       "      <td>-25.996269</td>\n",
       "      <td>-37.630448</td>\n",
       "      <td>-306.747724</td>\n",
       "      <td>-25.832889</td>\n",
       "      <td>-0.694428</td>\n",
       "      <td>-12.175933</td>\n",
       "      <td>-0.45614</td>\n",
       "      <td>0.0</td>\n",
       "    </tr>\n",
       "    <tr>\n",
       "      <th>4</th>\n",
       "      <td>603879</td>\n",
       "      <td>1381257</td>\n",
       "      <td>2.0</td>\n",
       "      <td>1531083600</td>\n",
       "      <td>0.0</td>\n",
       "      <td>207708</td>\n",
       "      <td>-37.509971</td>\n",
       "      <td>-168.899112</td>\n",
       "      <td>-51.450786</td>\n",
       "      <td>-217.266798</td>\n",
       "      <td>...</td>\n",
       "      <td>-977.373846</td>\n",
       "      <td>-613.770792</td>\n",
       "      <td>-25.996269</td>\n",
       "      <td>-37.630448</td>\n",
       "      <td>-306.747724</td>\n",
       "      <td>-25.832889</td>\n",
       "      <td>-0.694428</td>\n",
       "      <td>-12.175933</td>\n",
       "      <td>-0.45614</td>\n",
       "      <td>0.0</td>\n",
       "    </tr>\n",
       "  </tbody>\n",
       "</table>\n",
       "<p>5 rows × 259 columns</p>\n",
       "</div>"
      ],
      "text/plain": [
       "   Unnamed: 0_x       id  vas_id    buy_time  target  Unnamed: 0_y  \\\n",
       "0        603994  1292549     2.0  1531083600     0.0       2915346   \n",
       "1        703506  1975491     4.0  1531083600     0.0       3256495   \n",
       "2        604076  3102489     1.0  1531083600     1.0        232405   \n",
       "3        758323  3532789     1.0  1531083600     0.0        588714   \n",
       "4        603879  1381257     2.0  1531083600     0.0        207708   \n",
       "\n",
       "            0           1           2           3  ...         243  \\\n",
       "0   93.880029 -217.499112   79.939214 -270.106798  ... -977.373846   \n",
       "1  136.250029 -175.129112  124.849214 -225.196798  ... -892.373846   \n",
       "2  -96.799971 -408.179112 -110.740786 -460.786798  ... -443.373846   \n",
       "3  -30.349971 -139.569112  -44.290786 -192.176798  ... -977.373846   \n",
       "4  -37.509971 -168.899112  -51.450786 -217.266798  ... -977.373846   \n",
       "\n",
       "          244        245        246         247        248       249  \\\n",
       "0 -613.770792 -25.996269 -37.630448 -306.747724 -25.832889 -0.694428   \n",
       "1 -528.770792 -24.996269 -36.630448 -191.747724 -22.832889 -0.694428   \n",
       "2  -80.770792  37.003731  21.369552  142.252276   8.167111 -0.694428   \n",
       "3 -613.770792 -25.996269 -37.630448 -306.747724 -25.832889 -0.694428   \n",
       "4 -613.770792 -25.996269 -37.630448 -306.747724 -25.832889 -0.694428   \n",
       "\n",
       "         250      251  252  \n",
       "0 -12.175933 -0.45614  0.0  \n",
       "1 -12.175933  2.54386  0.0  \n",
       "2  19.824067  1.54386  1.0  \n",
       "3 -12.175933 -0.45614  0.0  \n",
       "4 -12.175933 -0.45614  0.0  \n",
       "\n",
       "[5 rows x 259 columns]"
      ]
     },
     "execution_count": 4,
     "metadata": {},
     "output_type": "execute_result"
    }
   ],
   "source": [
    "# загрузка подготовленного датасета(уравненного)\n",
    "\n",
    "data_load = pd.read_csv('git_ignore_files/data_train_merge_120k.csv')\n",
    "data_load.head(5)"
   ]
  },
  {
   "cell_type": "code",
   "execution_count": 5,
   "metadata": {},
   "outputs": [
    {
     "data": {
      "text/plain": [
       "{'names': 'datas',\n",
       " 'drop_column': [75,\n",
       "  81,\n",
       "  85,\n",
       "  95,\n",
       "  139,\n",
       "  203,\n",
       "  218,\n",
       "  0,\n",
       "  210,\n",
       "  10,\n",
       "  44,\n",
       "  54,\n",
       "  23,\n",
       "  32,\n",
       "  41,\n",
       "  136,\n",
       "  209,\n",
       "  83,\n",
       "  13,\n",
       "  2,\n",
       "  50,\n",
       "  42,\n",
       "  179,\n",
       "  12,\n",
       "  38,\n",
       "  135,\n",
       "  73,\n",
       "  39,\n",
       "  40,\n",
       "  101,\n",
       "  45],\n",
       " 'xgb': 0.3,\n",
       " 'xgb_pca': 0.45,\n",
       " 'uslugi': [2.0, 1.0, 4.0, 9.0, 6.0, 5.0, 8.0, 7.0]}"
      ]
     },
     "execution_count": 5,
     "metadata": {},
     "output_type": "execute_result"
    }
   ],
   "source": [
    "# загрузка файла с параметрами для удаления колонок\n",
    "\n",
    "with open('to_model/parametres.json', 'r') as f:\n",
    "    param_json = json.load(f)\n",
    "param_json"
   ]
  },
  {
   "cell_type": "code",
   "execution_count": 34,
   "metadata": {
    "id": "LMIeNy1ueCO-"
   },
   "outputs": [
    {
     "data": {
      "text/plain": [
       "Pipeline(steps=[('ful', Preprocess_ful()),\n",
       "                ('transform',\n",
       "                 FeatureUnion(transformer_list=[('dummy_15',\n",
       "                                                 Pipeline(steps=[('column_dummy',\n",
       "                                                                  Preprocessing(aggfunc='median',\n",
       "                                                                                column='15',\n",
       "                                                                                norm='norm')),\n",
       "                                                                 ('one_hot',\n",
       "                                                                  OneHotEncoder(handle_unknown='ignore',\n",
       "                                                                                sparse=False))])),\n",
       "                                                ('dummy_24',\n",
       "                                                 Pipeline(steps=[('column_dummy',\n",
       "                                                                  Preprocessing(aggfunc='median',\n",
       "                                                                                column='24',\n",
       "                                                                                norm='norm...\n",
       "                                                                  StandardScaler())])),\n",
       "                                                ('4',\n",
       "                                                 Pipeline(steps=[('column_4',\n",
       "                                                                  Preprocessing(aggfunc='median',\n",
       "                                                                                column='4',\n",
       "                                                                                norm='transform')),\n",
       "                                                                 ('standardscale',\n",
       "                                                                  StandardScaler())])),\n",
       "                                                ('5',\n",
       "                                                 Pipeline(steps=[('column_5',\n",
       "                                                                  Preprocessing(aggfunc='median',\n",
       "                                                                                column='5',\n",
       "                                                                                norm='transform')),\n",
       "                                                                 ('standardscale',\n",
       "                                                                  StandardScaler())])), ...])),\n",
       "                ('drop_column', Drop_column_lasso()),\n",
       "                ('LR', LogisticRegression())])"
      ]
     },
     "execution_count": 34,
     "metadata": {},
     "output_type": "execute_result"
    }
   ],
   "source": [
    "# классы для pipeline\n",
    "# буду описывать непосредственно над классом\n",
    "\n",
    "from sklearn.pipeline import Pipeline, FeatureUnion\n",
    "from sklearn.compose import ColumnTransformer\n",
    "from sklearn.base import BaseEstimator, TransformerMixin\n",
    "from datetime import datetime\n",
    "from sklearn.linear_model import Lasso, Ridge\n",
    "import statistics\n",
    "from scipy.stats import iqr\n",
    "    \n",
    "\n",
    "# первичная предобработка - удаление колонок ['id', 'Unnamed: 0_x', 'Unnamed: 0_y', 'buy_time']\n",
    "# так же удаление из файла json\n",
    "# оставляем только месяц из даты предложения услуги(день недели везде суббота, год будем считать не важен)\n",
    "\n",
    "class Preprocess_ful(BaseEstimator, TransformerMixin):\n",
    "    def fit(self, x, y=None):\n",
    "        return self\n",
    "    def transform(self, x, y=None):\n",
    "        x = x.copy()\n",
    "        # колонка buy_time_x - время предложения услуги, берем только месяц тк дни недели везде одинаковые(суббота)\n",
    "        x['month'] = [datetime.date(datetime.fromtimestamp(i)).month for i in x['buy_time']]     \n",
    "        # удаление столбцов не нужных\n",
    "        x.drop(['id', 'Unnamed: 0_x', 'Unnamed: 0_y', 'buy_time'], axis=1, inplace=True)\n",
    "        if 'target' in x.columns:\n",
    "            x.drop('target', axis=1, inplace=True)\n",
    "        #  удаление столбцов с единственным значением\n",
    "        x.drop([str(i) for i in param_json['drop_column']], axis=1, inplace=True)  \n",
    "        return x.astype(np.float32)\n",
    "\n",
    "\n",
    "# прописано замена Nan-ов на моду.(на будущее)\n",
    "# замена выбросов(по 1.5. интерквартильному размаху) на медиану, моду, либо среднее\n",
    "\n",
    "class Preprocessing(BaseEstimator, TransformerMixin):\n",
    "    def __init__(self, column, aggfunc, norm):\n",
    "        self.norm = norm\n",
    "        self.column = column\n",
    "        self.aggfunc = aggfunc\n",
    "        self.quantil_min = 0.025\n",
    "        self.quantil_max = 0.975\n",
    "        # множитель для среднеквартильного размаха для удаления выбросов\n",
    "#         self.iqr_number = 1.5\n",
    "\n",
    "    def fit(self, x, y=None):\n",
    "        return self\n",
    "\n",
    "    def transform(self, x, y=None):\n",
    "        if self.norm == 'norm':\n",
    "            x[self.column].fillna(statistics.mode(x), inplace=True)\n",
    "#             return x[[self.column]]\n",
    "        elif self.norm == 'transform':\n",
    "            x[self.column].fillna(statistics.mode(x), inplace=True)\n",
    "            x[self.column] = self.quantile_data(x[self.column])\n",
    "        return x[[self.column]]\n",
    "\n",
    "    def quantile_data(self, x):\n",
    "#         iqr_result = iqr(x) * self.iqr_number\n",
    "        if self.aggfunc == 'mean':\n",
    "#             x[x < x.median() - iqr_result] = x.mean()\n",
    "#             x[x > x.median() + iqr_result] = x.mean()\n",
    "            x[(x < np.quantile(x, self.quantil_min))&\n",
    "              (x > np.quantile(x, self.quantil_max))] = x.mean()\n",
    "        elif self.aggfunc == 'median':\n",
    "#             x[x < x.median() - iqr_result] = x.median()\n",
    "#             x[x > x.median() + iqr_result] = x.median()\n",
    "            x[(x < np.quantile(x, self.quantil_min))&\n",
    "              (x > np.quantile(x, self.quantil_max))] = x.median()\n",
    "        elif self.aggfunc == 'moda':\n",
    "#             x[x < x.median() - iqr_result] = statistics.mode(x)\n",
    "#             x[x > x.median() + iqr_result] = statistics.mode(x)\n",
    "            x[(x < np.quantile(x, self.quantil_min))&\n",
    "              (x > np.quantile(x, self.quantil_max))] = statistics.mode(x)\n",
    "        return x\n",
    "\n",
    "# удаление колонок по обработке данных по Lasso(ниже в коде - после вставлено сюда списком)    \n",
    "\n",
    "class Drop_column_lasso(BaseEstimator, TransformerMixin):\n",
    "    def fit(self, x, y=None):\n",
    "        return self\n",
    "\n",
    "    def transform(self, x, y=None):\n",
    "        x = pd.DataFrame(x)\n",
    "        x.drop([1, 3, 4, 11, 12, 17, 18, 19, 20, 21, 22, 23, 38, \n",
    "                39, 48, 49, 50, 51, 52, 135, 195], axis=1, inplace=True)\n",
    "        return x\n",
    "\n",
    "\n",
    "# создание списка для pipline направляя в классы, далее на FeatureUnion\n",
    "# преобразование в категориальные признаки колонок где уникальных значений менее 5\n",
    "\n",
    "pip_transform = []\n",
    "list_dummy = [i for i in range(253) if len(data_load[f'{i}'].unique()) < 5]\n",
    "\n",
    "replace_releas = 'median'   # замена значений выбросов на медиану\n",
    "\n",
    "for i in list_dummy:\n",
    "    if not i in param_json['drop_column']:\n",
    "        pip_transform.append((f'dummy_{i}', Pipeline([('column_dummy', Preprocessing(f'{i}', norm='norm', aggfunc=replace_releas)), # transform\n",
    "                                          ('one_hot', OneHotEncoder(sparse=False, handle_unknown='ignore'))])))\n",
    "\n",
    "for i in ['vas_id', 'month']:\n",
    "    pip_transform.append((f'dummy_{i}', Pipeline([('column_dummy', Preprocessing(i, norm='norm', aggfunc=replace_releas)), \n",
    "                                          ('one_hot', OneHotEncoder(sparse=False, handle_unknown='ignore'))])))\n",
    "\n",
    "for i in range(253):\n",
    "    if not i in list_dummy and not i in param_json['drop_column']:\n",
    "        pip_transform.append((f'{i}', Pipeline([(f'column_{i}', Preprocessing(f'{i}', norm='transform', aggfunc=replace_releas)),  # transform\n",
    "                                            ('standardscale', StandardScaler())])))\n",
    "    # pip_transform.append((f'{i}', Pipeline([(f'column_{i}', Preprocessing(f'{i}', norm='norm')),])))\n",
    "\n",
    "\n",
    "# FeatureUnion(pip_transform)\n",
    "\n",
    "\n",
    "\n",
    "# основной pipeline для преобработки\n",
    "\n",
    "pip = Pipeline([('ful', Preprocess_ful()),\n",
    "                ('transform', FeatureUnion(pip_transform)),\n",
    "                ('drop_column', Drop_column_lasso()),\n",
    "                ('LR', LogisticRegression())])\n",
    "pip"
   ]
  },
  {
   "cell_type": "markdown",
   "metadata": {
    "id": "izAGHaoBE6j6"
   },
   "source": [
    "# проверка столбцов на категории"
   ]
  },
  {
   "cell_type": "code",
   "execution_count": 35,
   "metadata": {
    "colab": {
     "base_uri": "https://localhost:8080/"
    },
    "id": "2ID5pIBDG-8V",
    "outputId": "25e96b13-7879-43bb-8d62-8293f392cc30"
   },
   "outputs": [
    {
     "data": {
      "text/plain": [
       "Preprocess_ful()"
      ]
     },
     "execution_count": 35,
     "metadata": {},
     "output_type": "execute_result"
    }
   ],
   "source": [
    "# начальная предобработка данных\n",
    "# просмотр и применение для дальнейшего исследования\n",
    "pip[0]"
   ]
  },
  {
   "cell_type": "code",
   "execution_count": 36,
   "metadata": {
    "colab": {
     "base_uri": "https://localhost:8080/",
     "height": 237
    },
    "id": "04AXGbdYHEiQ",
    "outputId": "ff6d6f43-bc0c-435f-b9d1-42a676200b5c"
   },
   "outputs": [
    {
     "data": {
      "text/html": [
       "<div>\n",
       "<style scoped>\n",
       "    .dataframe tbody tr th:only-of-type {\n",
       "        vertical-align: middle;\n",
       "    }\n",
       "\n",
       "    .dataframe tbody tr th {\n",
       "        vertical-align: top;\n",
       "    }\n",
       "\n",
       "    .dataframe thead th {\n",
       "        text-align: right;\n",
       "    }\n",
       "</style>\n",
       "<table border=\"1\" class=\"dataframe\">\n",
       "  <thead>\n",
       "    <tr style=\"text-align: right;\">\n",
       "      <th></th>\n",
       "      <th>1</th>\n",
       "      <th>3</th>\n",
       "      <th>4</th>\n",
       "      <th>5</th>\n",
       "      <th>6</th>\n",
       "      <th>7</th>\n",
       "      <th>8</th>\n",
       "      <th>9</th>\n",
       "      <th>11</th>\n",
       "      <th>14</th>\n",
       "      <th>...</th>\n",
       "      <th>243</th>\n",
       "      <th>244</th>\n",
       "      <th>245</th>\n",
       "      <th>246</th>\n",
       "      <th>247</th>\n",
       "      <th>248</th>\n",
       "      <th>249</th>\n",
       "      <th>250</th>\n",
       "      <th>251</th>\n",
       "      <th>252</th>\n",
       "    </tr>\n",
       "  </thead>\n",
       "  <tbody>\n",
       "    <tr>\n",
       "      <th>0</th>\n",
       "      <td>-217.499115</td>\n",
       "      <td>-270.106812</td>\n",
       "      <td>74.521751</td>\n",
       "      <td>-291.211792</td>\n",
       "      <td>-16.08618</td>\n",
       "      <td>-65.076096</td>\n",
       "      <td>-6.78366</td>\n",
       "      <td>-30.006538</td>\n",
       "      <td>-4.007526</td>\n",
       "      <td>113.161888</td>\n",
       "      <td>...</td>\n",
       "      <td>-977.37384</td>\n",
       "      <td>-613.770813</td>\n",
       "      <td>-25.996269</td>\n",
       "      <td>-37.630447</td>\n",
       "      <td>-306.747711</td>\n",
       "      <td>-25.832888</td>\n",
       "      <td>-0.694429</td>\n",
       "      <td>-12.175933</td>\n",
       "      <td>-0.45614</td>\n",
       "      <td>0.0</td>\n",
       "    </tr>\n",
       "    <tr>\n",
       "      <th>1</th>\n",
       "      <td>-175.129105</td>\n",
       "      <td>-225.196793</td>\n",
       "      <td>119.431755</td>\n",
       "      <td>-246.301788</td>\n",
       "      <td>-16.08618</td>\n",
       "      <td>-65.076096</td>\n",
       "      <td>-6.78366</td>\n",
       "      <td>-30.006538</td>\n",
       "      <td>-4.007526</td>\n",
       "      <td>155.531891</td>\n",
       "      <td>...</td>\n",
       "      <td>-892.37384</td>\n",
       "      <td>-528.770813</td>\n",
       "      <td>-24.996269</td>\n",
       "      <td>-36.630447</td>\n",
       "      <td>-191.747726</td>\n",
       "      <td>-22.832888</td>\n",
       "      <td>-0.694429</td>\n",
       "      <td>-12.175933</td>\n",
       "      <td>2.54386</td>\n",
       "      <td>0.0</td>\n",
       "    </tr>\n",
       "    <tr>\n",
       "      <th>2</th>\n",
       "      <td>-408.179108</td>\n",
       "      <td>-460.786804</td>\n",
       "      <td>-116.158249</td>\n",
       "      <td>-481.891785</td>\n",
       "      <td>-16.08618</td>\n",
       "      <td>-65.076096</td>\n",
       "      <td>-6.78366</td>\n",
       "      <td>-30.006538</td>\n",
       "      <td>-4.007526</td>\n",
       "      <td>-77.518112</td>\n",
       "      <td>...</td>\n",
       "      <td>-443.37384</td>\n",
       "      <td>-80.770790</td>\n",
       "      <td>37.003731</td>\n",
       "      <td>21.369551</td>\n",
       "      <td>142.252274</td>\n",
       "      <td>8.167111</td>\n",
       "      <td>-0.694429</td>\n",
       "      <td>19.824066</td>\n",
       "      <td>1.54386</td>\n",
       "      <td>1.0</td>\n",
       "    </tr>\n",
       "  </tbody>\n",
       "</table>\n",
       "<p>3 rows × 222 columns</p>\n",
       "</div>"
      ],
      "text/plain": [
       "            1           3           4           5         6          7  \\\n",
       "0 -217.499115 -270.106812   74.521751 -291.211792 -16.08618 -65.076096   \n",
       "1 -175.129105 -225.196793  119.431755 -246.301788 -16.08618 -65.076096   \n",
       "2 -408.179108 -460.786804 -116.158249 -481.891785 -16.08618 -65.076096   \n",
       "\n",
       "         8          9        11          14  ...        243         244  \\\n",
       "0 -6.78366 -30.006538 -4.007526  113.161888  ... -977.37384 -613.770813   \n",
       "1 -6.78366 -30.006538 -4.007526  155.531891  ... -892.37384 -528.770813   \n",
       "2 -6.78366 -30.006538 -4.007526  -77.518112  ... -443.37384  -80.770790   \n",
       "\n",
       "         245        246         247        248       249        250      251  \\\n",
       "0 -25.996269 -37.630447 -306.747711 -25.832888 -0.694429 -12.175933 -0.45614   \n",
       "1 -24.996269 -36.630447 -191.747726 -22.832888 -0.694429 -12.175933  2.54386   \n",
       "2  37.003731  21.369551  142.252274   8.167111 -0.694429  19.824066  1.54386   \n",
       "\n",
       "   252  \n",
       "0  0.0  \n",
       "1  0.0  \n",
       "2  1.0  \n",
       "\n",
       "[3 rows x 222 columns]"
      ]
     },
     "execution_count": 36,
     "metadata": {},
     "output_type": "execute_result"
    }
   ],
   "source": [
    "# преобразование данных по первому этапу\n",
    "\n",
    "df = pd.DataFrame(pip[0].transform(data_load))\n",
    "df = df.drop(['vas_id',  'month'], axis=1)\n",
    "df.head(3)"
   ]
  },
  {
   "cell_type": "code",
   "execution_count": 37,
   "metadata": {
    "id": "DvL6Jn1JE-kY"
   },
   "outputs": [],
   "source": [
    "# создание датафрейма в колонках вместо данных, кол-во уникальных признаков столбца\n",
    "\n",
    "list_categories = []\n",
    "for i in df.columns:\n",
    "    list_categories.append(len(df[i].unique()))\n",
    "df = pd.DataFrame(columns=df.columns)\n",
    "df.loc[0] = list_categories"
   ]
  },
  {
   "cell_type": "code",
   "execution_count": 38,
   "metadata": {
    "colab": {
     "base_uri": "https://localhost:8080/"
    },
    "id": "pHCba6l7E-gv",
    "outputId": "584252c3-81f5-4795-9412-830273908f60"
   },
   "outputs": [
    {
     "name": "stdout",
     "output_type": "stream",
     "text": [
      "колонки с кол-вом уникальных значений менее 5 Index(['15', '24', '26', '27', '31', '33', '57', '132', '154', '155', '192',\n",
      "       '194', '195', '196', '197', '198', '199', '200', '201', '202', '204',\n",
      "       '205', '206', '216'],\n",
      "      dtype='object')\n",
      "кол-во признаков где менее 5 признаков 24\n"
     ]
    }
   ],
   "source": [
    "# ручной просмотр кол-ва признаков в колонках\n",
    "print(f'колонки с кол-вом уникальных значений менее 5 {df.columns[df.loc[0] < 5]}')\n",
    "print(f'кол-во признаков где менее 5 признаков {len(df.columns[df.loc[0] < 5])}')"
   ]
  },
  {
   "cell_type": "code",
   "execution_count": 39,
   "metadata": {
    "colab": {
     "base_uri": "https://localhost:8080/",
     "height": 294
    },
    "id": "CU0ordEmE-P-",
    "outputId": "b54ea5fa-82c3-45ea-80c9-c142f32b8223"
   },
   "outputs": [
    {
     "data": {
      "image/png": "[encoded data removed]",
      "text/plain": [
       "<Figure size 432x288 with 1 Axes>"
      ]
     },
     "metadata": {
      "needs_background": "light"
     },
     "output_type": "display_data"
    }
   ],
   "source": [
    "# график кол-ва уникальных признаков \n",
    "\n",
    "y = []\n",
    "x = range(50)\n",
    "for i in x:\n",
    "    y.append(len(df.columns[df.loc[0] < i]))\n",
    "\n",
    "plt.plot(x, y)\n",
    "plt.xlabel('кол-во уникальных признаков')\n",
    "plt.ylabel('кол-во столбцов где менее х кол-ва признаков')\n",
    "plt.grid()\n",
    "plt.show()"
   ]
  },
  {
   "cell_type": "markdown",
   "metadata": {
    "id": "uUO1VLYXROmS"
   },
   "source": [
    "# все признаки где менее 5 уникальных значений переведем в dummy\n",
    "# добавлено в pip_transform обработка в FeatureUnion"
   ]
  },
  {
   "cell_type": "markdown",
   "metadata": {
    "id": "YDYty-ok0dBP"
   },
   "source": [
    "*****************************************************************************************************"
   ]
  },
  {
   "cell_type": "markdown",
   "metadata": {
    "id": "_V0qA9G7BrLm"
   },
   "source": [
    "# проверка столбцов через Lasso"
   ]
  },
  {
   "cell_type": "code",
   "execution_count": 40,
   "metadata": {
    "colab": {
     "base_uri": "https://localhost:8080/",
     "height": 173
    },
    "id": "XRmefqA1uDPa",
    "outputId": "94e84105-8d36-4a99-8807-a5acac0fb650"
   },
   "outputs": [
    {
     "data": {
      "text/html": [
       "<div>\n",
       "<style scoped>\n",
       "    .dataframe tbody tr th:only-of-type {\n",
       "        vertical-align: middle;\n",
       "    }\n",
       "\n",
       "    .dataframe tbody tr th {\n",
       "        vertical-align: top;\n",
       "    }\n",
       "\n",
       "    .dataframe thead th {\n",
       "        text-align: right;\n",
       "    }\n",
       "</style>\n",
       "<table border=\"1\" class=\"dataframe\">\n",
       "  <thead>\n",
       "    <tr style=\"text-align: right;\">\n",
       "      <th></th>\n",
       "      <th>0</th>\n",
       "      <th>1</th>\n",
       "      <th>2</th>\n",
       "      <th>3</th>\n",
       "      <th>4</th>\n",
       "      <th>5</th>\n",
       "      <th>6</th>\n",
       "      <th>7</th>\n",
       "      <th>8</th>\n",
       "      <th>9</th>\n",
       "      <th>...</th>\n",
       "      <th>255</th>\n",
       "      <th>256</th>\n",
       "      <th>257</th>\n",
       "      <th>258</th>\n",
       "      <th>259</th>\n",
       "      <th>260</th>\n",
       "      <th>261</th>\n",
       "      <th>262</th>\n",
       "      <th>263</th>\n",
       "      <th>264</th>\n",
       "    </tr>\n",
       "  </thead>\n",
       "  <tbody>\n",
       "    <tr>\n",
       "      <th>0</th>\n",
       "      <td>1.0</td>\n",
       "      <td>0.0</td>\n",
       "      <td>1.0</td>\n",
       "      <td>0.0</td>\n",
       "      <td>0.0</td>\n",
       "      <td>0.0</td>\n",
       "      <td>1.0</td>\n",
       "      <td>1.0</td>\n",
       "      <td>0.0</td>\n",
       "      <td>1.0</td>\n",
       "      <td>...</td>\n",
       "      <td>-0.307443</td>\n",
       "      <td>-0.273396</td>\n",
       "      <td>-0.011493</td>\n",
       "      <td>-0.115203</td>\n",
       "      <td>-0.239639</td>\n",
       "      <td>-0.133779</td>\n",
       "      <td>-0.099575</td>\n",
       "      <td>-0.115244</td>\n",
       "      <td>-0.092222</td>\n",
       "      <td>-0.359144</td>\n",
       "    </tr>\n",
       "    <tr>\n",
       "      <th>1</th>\n",
       "      <td>1.0</td>\n",
       "      <td>0.0</td>\n",
       "      <td>1.0</td>\n",
       "      <td>0.0</td>\n",
       "      <td>0.0</td>\n",
       "      <td>0.0</td>\n",
       "      <td>1.0</td>\n",
       "      <td>1.0</td>\n",
       "      <td>0.0</td>\n",
       "      <td>1.0</td>\n",
       "      <td>...</td>\n",
       "      <td>-0.280669</td>\n",
       "      <td>-0.235759</td>\n",
       "      <td>-0.011156</td>\n",
       "      <td>-0.112122</td>\n",
       "      <td>-0.150022</td>\n",
       "      <td>-0.117895</td>\n",
       "      <td>-0.099575</td>\n",
       "      <td>-0.115244</td>\n",
       "      <td>0.495993</td>\n",
       "      <td>-0.359144</td>\n",
       "    </tr>\n",
       "    <tr>\n",
       "      <th>2</th>\n",
       "      <td>1.0</td>\n",
       "      <td>0.0</td>\n",
       "      <td>1.0</td>\n",
       "      <td>0.0</td>\n",
       "      <td>0.0</td>\n",
       "      <td>0.0</td>\n",
       "      <td>1.0</td>\n",
       "      <td>1.0</td>\n",
       "      <td>0.0</td>\n",
       "      <td>1.0</td>\n",
       "      <td>...</td>\n",
       "      <td>-0.139244</td>\n",
       "      <td>-0.037393</td>\n",
       "      <td>0.009752</td>\n",
       "      <td>0.066589</td>\n",
       "      <td>0.110258</td>\n",
       "      <td>0.046238</td>\n",
       "      <td>-0.099575</td>\n",
       "      <td>0.195532</td>\n",
       "      <td>0.299921</td>\n",
       "      <td>1.034726</td>\n",
       "    </tr>\n",
       "  </tbody>\n",
       "</table>\n",
       "<p>3 rows × 265 columns</p>\n",
       "</div>"
      ],
      "text/plain": [
       "   0    1    2    3    4    5    6    7    8    9    ...       255       256  \\\n",
       "0  1.0  0.0  1.0  0.0  0.0  0.0  1.0  1.0  0.0  1.0  ... -0.307443 -0.273396   \n",
       "1  1.0  0.0  1.0  0.0  0.0  0.0  1.0  1.0  0.0  1.0  ... -0.280669 -0.235759   \n",
       "2  1.0  0.0  1.0  0.0  0.0  0.0  1.0  1.0  0.0  1.0  ... -0.139244 -0.037393   \n",
       "\n",
       "        257       258       259       260       261       262       263  \\\n",
       "0 -0.011493 -0.115203 -0.239639 -0.133779 -0.099575 -0.115244 -0.092222   \n",
       "1 -0.011156 -0.112122 -0.150022 -0.117895 -0.099575 -0.115244  0.495993   \n",
       "2  0.009752  0.066589  0.110258  0.046238 -0.099575  0.195532  0.299921   \n",
       "\n",
       "        264  \n",
       "0 -0.359144  \n",
       "1 -0.359144  \n",
       "2  1.034726  \n",
       "\n",
       "[3 rows x 265 columns]"
      ]
     },
     "execution_count": 40,
     "metadata": {},
     "output_type": "execute_result"
    }
   ],
   "source": [
    "# преобразования след этапа\n",
    "\n",
    "data_transform = pd.DataFrame(pip[:2].fit_transform(data_load))\n",
    "data_transform.head(3)"
   ]
  },
  {
   "cell_type": "code",
   "execution_count": 41,
   "metadata": {
    "id": "AS_s_xMRB7AS"
   },
   "outputs": [],
   "source": [
    "# импорт необходимых библиотек\n",
    "\n",
    "from sklearn.linear_model import Lasso, Ridge\n",
    "\n",
    "lasso_cv = Lasso(alpha=1e-5, random_state=13, fit_intercept=False, max_iter=5).fit(data_transform, data_load['target'])\n",
    "# ridge_cv = Ridge(alpha=1e-5, random_state=13).fit(data_transform, data_load['target'])"
   ]
  },
  {
   "cell_type": "code",
   "execution_count": 42,
   "metadata": {
    "colab": {
     "base_uri": "https://localhost:8080/",
     "height": 171
    },
    "id": "Ton4XkvvB8f3",
    "outputId": "fe10be93-7c27-476a-c5c8-05700024e162"
   },
   "outputs": [
    {
     "data": {
      "text/html": [
       "<div>\n",
       "<style scoped>\n",
       "    .dataframe tbody tr th:only-of-type {\n",
       "        vertical-align: middle;\n",
       "    }\n",
       "\n",
       "    .dataframe tbody tr th {\n",
       "        vertical-align: top;\n",
       "    }\n",
       "\n",
       "    .dataframe thead th {\n",
       "        text-align: right;\n",
       "    }\n",
       "</style>\n",
       "<table border=\"1\" class=\"dataframe\">\n",
       "  <thead>\n",
       "    <tr style=\"text-align: right;\">\n",
       "      <th></th>\n",
       "      <th>0</th>\n",
       "      <th>1</th>\n",
       "      <th>2</th>\n",
       "      <th>3</th>\n",
       "      <th>4</th>\n",
       "      <th>5</th>\n",
       "      <th>6</th>\n",
       "      <th>7</th>\n",
       "      <th>8</th>\n",
       "      <th>9</th>\n",
       "      <th>...</th>\n",
       "      <th>255</th>\n",
       "      <th>256</th>\n",
       "      <th>257</th>\n",
       "      <th>258</th>\n",
       "      <th>259</th>\n",
       "      <th>260</th>\n",
       "      <th>261</th>\n",
       "      <th>262</th>\n",
       "      <th>263</th>\n",
       "      <th>264</th>\n",
       "    </tr>\n",
       "  </thead>\n",
       "  <tbody>\n",
       "    <tr>\n",
       "      <th>0</th>\n",
       "      <td>0.499775</td>\n",
       "      <td>0.0</td>\n",
       "      <td>0.000031</td>\n",
       "      <td>0.0</td>\n",
       "      <td>-0.0</td>\n",
       "      <td>0.002815</td>\n",
       "      <td>-0.000657</td>\n",
       "      <td>-0.000007</td>\n",
       "      <td>0.000809</td>\n",
       "      <td>-0.00007</td>\n",
       "      <td>...</td>\n",
       "      <td>0.000062</td>\n",
       "      <td>-0.001376</td>\n",
       "      <td>0.000539</td>\n",
       "      <td>0.001615</td>\n",
       "      <td>-0.001499</td>\n",
       "      <td>-0.001035</td>\n",
       "      <td>-0.001236</td>\n",
       "      <td>0.000438</td>\n",
       "      <td>0.000244</td>\n",
       "      <td>0.00018</td>\n",
       "    </tr>\n",
       "  </tbody>\n",
       "</table>\n",
       "<p>1 rows × 265 columns</p>\n",
       "</div>"
      ],
      "text/plain": [
       "        0    1         2    3    4         5         6         7         8    \\\n",
       "0  0.499775  0.0  0.000031  0.0 -0.0  0.002815 -0.000657 -0.000007  0.000809   \n",
       "\n",
       "       9    ...       255       256       257       258       259       260  \\\n",
       "0 -0.00007  ...  0.000062 -0.001376  0.000539  0.001615 -0.001499 -0.001035   \n",
       "\n",
       "        261       262       263      264  \n",
       "0 -0.001236  0.000438  0.000244  0.00018  \n",
       "\n",
       "[1 rows x 265 columns]"
      ]
     },
     "execution_count": 42,
     "metadata": {},
     "output_type": "execute_result"
    }
   ],
   "source": [
    "# создаем датафраме и подставляем в названия колонок коээфициенты Lasso\n",
    "\n",
    "df = pd.DataFrame(columns=data_transform.columns)\n",
    "df.loc[0] = lasso_cv.coef_\n",
    "df"
   ]
  },
  {
   "cell_type": "code",
   "execution_count": 43,
   "metadata": {
    "colab": {
     "base_uri": "https://localhost:8080/"
    },
    "id": "xwivA2e5B8XY",
    "outputId": "15e96f1f-aa1a-40d0-85de-56d0e31dc7ff"
   },
   "outputs": [
    {
     "data": {
      "text/plain": [
       "21"
      ]
     },
     "execution_count": 43,
     "metadata": {},
     "output_type": "execute_result"
    }
   ],
   "source": [
    "# кол-во нулевых колонок\n",
    "\n",
    "len(df.columns[df.loc[0] == 0])"
   ]
  },
  {
   "cell_type": "code",
   "execution_count": 44,
   "metadata": {
    "colab": {
     "base_uri": "https://localhost:8080/"
    },
    "id": "omJgDvVFB8JA",
    "outputId": "3dbd2bce-f054-4c4d-f5d7-1c185d0dfac1",
    "scrolled": true
   },
   "outputs": [
    {
     "name": "stdout",
     "output_type": "stream",
     "text": [
      "[1, 3, 4, 11, 12, 17, 18, 19, 20, 21, 22, 23, 38, 39, 48, 49, 50, 51, 52, 135, 195]\n"
     ]
    }
   ],
   "source": [
    "# этот список нулевых колонок копирую в класс Drop_column_lasso\n",
    "\n",
    "drop_column_lasso = df.columns[df.loc[0] == 0]\n",
    "print(list(drop_column_lasso))"
   ]
  },
  {
   "cell_type": "code",
   "execution_count": 45,
   "metadata": {},
   "outputs": [
    {
     "ename": "NameError",
     "evalue": "name 'pause' is not defined",
     "output_type": "error",
     "traceback": [
      "\u001b[0;31m---------------------------------------------------------------------------\u001b[0m",
      "\u001b[0;31mNameError\u001b[0m                                 Traceback (most recent call last)",
      "Input \u001b[0;32mIn [45]\u001b[0m, in \u001b[0;36m<cell line: 1>\u001b[0;34m()\u001b[0m\n\u001b[0;32m----> 1\u001b[0m \u001b[43mpause\u001b[49m\n",
      "\u001b[0;31mNameError\u001b[0m: name 'pause' is not defined"
     ]
    }
   ],
   "source": [
    "pause"
   ]
  },
  {
   "cell_type": "markdown",
   "metadata": {},
   "source": [
    "# пауза для копирования"
   ]
  },
  {
   "cell_type": "markdown",
   "metadata": {},
   "source": [
    "# проверка преобразования данных"
   ]
  },
  {
   "cell_type": "code",
   "execution_count": 46,
   "metadata": {
    "id": "YzEp_D-UVz0A"
   },
   "outputs": [
    {
     "data": {
      "text/html": [
       "<div>\n",
       "<style scoped>\n",
       "    .dataframe tbody tr th:only-of-type {\n",
       "        vertical-align: middle;\n",
       "    }\n",
       "\n",
       "    .dataframe tbody tr th {\n",
       "        vertical-align: top;\n",
       "    }\n",
       "\n",
       "    .dataframe thead th {\n",
       "        text-align: right;\n",
       "    }\n",
       "</style>\n",
       "<table border=\"1\" class=\"dataframe\">\n",
       "  <thead>\n",
       "    <tr style=\"text-align: right;\">\n",
       "      <th></th>\n",
       "      <th>0</th>\n",
       "      <th>2</th>\n",
       "      <th>5</th>\n",
       "      <th>6</th>\n",
       "      <th>7</th>\n",
       "      <th>8</th>\n",
       "      <th>9</th>\n",
       "      <th>10</th>\n",
       "      <th>13</th>\n",
       "      <th>14</th>\n",
       "      <th>...</th>\n",
       "      <th>255</th>\n",
       "      <th>256</th>\n",
       "      <th>257</th>\n",
       "      <th>258</th>\n",
       "      <th>259</th>\n",
       "      <th>260</th>\n",
       "      <th>261</th>\n",
       "      <th>262</th>\n",
       "      <th>263</th>\n",
       "      <th>264</th>\n",
       "    </tr>\n",
       "  </thead>\n",
       "  <tbody>\n",
       "    <tr>\n",
       "      <th>0</th>\n",
       "      <td>1.0</td>\n",
       "      <td>1.0</td>\n",
       "      <td>0.0</td>\n",
       "      <td>1.0</td>\n",
       "      <td>1.0</td>\n",
       "      <td>0.0</td>\n",
       "      <td>1.0</td>\n",
       "      <td>0.0</td>\n",
       "      <td>1.0</td>\n",
       "      <td>0.0</td>\n",
       "      <td>...</td>\n",
       "      <td>-0.307443</td>\n",
       "      <td>-0.273396</td>\n",
       "      <td>-0.011493</td>\n",
       "      <td>-0.115203</td>\n",
       "      <td>-0.239639</td>\n",
       "      <td>-0.133779</td>\n",
       "      <td>-0.099575</td>\n",
       "      <td>-0.115244</td>\n",
       "      <td>-0.092222</td>\n",
       "      <td>-0.359144</td>\n",
       "    </tr>\n",
       "    <tr>\n",
       "      <th>1</th>\n",
       "      <td>1.0</td>\n",
       "      <td>1.0</td>\n",
       "      <td>0.0</td>\n",
       "      <td>1.0</td>\n",
       "      <td>1.0</td>\n",
       "      <td>0.0</td>\n",
       "      <td>1.0</td>\n",
       "      <td>0.0</td>\n",
       "      <td>1.0</td>\n",
       "      <td>0.0</td>\n",
       "      <td>...</td>\n",
       "      <td>-0.280669</td>\n",
       "      <td>-0.235759</td>\n",
       "      <td>-0.011156</td>\n",
       "      <td>-0.112122</td>\n",
       "      <td>-0.150022</td>\n",
       "      <td>-0.117895</td>\n",
       "      <td>-0.099575</td>\n",
       "      <td>-0.115244</td>\n",
       "      <td>0.495993</td>\n",
       "      <td>-0.359144</td>\n",
       "    </tr>\n",
       "    <tr>\n",
       "      <th>2</th>\n",
       "      <td>1.0</td>\n",
       "      <td>1.0</td>\n",
       "      <td>0.0</td>\n",
       "      <td>1.0</td>\n",
       "      <td>1.0</td>\n",
       "      <td>0.0</td>\n",
       "      <td>1.0</td>\n",
       "      <td>0.0</td>\n",
       "      <td>1.0</td>\n",
       "      <td>0.0</td>\n",
       "      <td>...</td>\n",
       "      <td>-0.139244</td>\n",
       "      <td>-0.037393</td>\n",
       "      <td>0.009752</td>\n",
       "      <td>0.066589</td>\n",
       "      <td>0.110258</td>\n",
       "      <td>0.046238</td>\n",
       "      <td>-0.099575</td>\n",
       "      <td>0.195532</td>\n",
       "      <td>0.299921</td>\n",
       "      <td>1.034726</td>\n",
       "    </tr>\n",
       "    <tr>\n",
       "      <th>3</th>\n",
       "      <td>1.0</td>\n",
       "      <td>1.0</td>\n",
       "      <td>0.0</td>\n",
       "      <td>1.0</td>\n",
       "      <td>1.0</td>\n",
       "      <td>0.0</td>\n",
       "      <td>1.0</td>\n",
       "      <td>0.0</td>\n",
       "      <td>1.0</td>\n",
       "      <td>0.0</td>\n",
       "      <td>...</td>\n",
       "      <td>-0.307443</td>\n",
       "      <td>-0.273396</td>\n",
       "      <td>-0.011493</td>\n",
       "      <td>-0.115203</td>\n",
       "      <td>-0.239639</td>\n",
       "      <td>-0.133779</td>\n",
       "      <td>-0.099575</td>\n",
       "      <td>-0.115244</td>\n",
       "      <td>-0.092222</td>\n",
       "      <td>-0.359144</td>\n",
       "    </tr>\n",
       "    <tr>\n",
       "      <th>4</th>\n",
       "      <td>1.0</td>\n",
       "      <td>1.0</td>\n",
       "      <td>0.0</td>\n",
       "      <td>1.0</td>\n",
       "      <td>1.0</td>\n",
       "      <td>0.0</td>\n",
       "      <td>1.0</td>\n",
       "      <td>0.0</td>\n",
       "      <td>1.0</td>\n",
       "      <td>0.0</td>\n",
       "      <td>...</td>\n",
       "      <td>-0.307443</td>\n",
       "      <td>-0.273396</td>\n",
       "      <td>-0.011493</td>\n",
       "      <td>-0.115203</td>\n",
       "      <td>-0.239639</td>\n",
       "      <td>-0.133779</td>\n",
       "      <td>-0.099575</td>\n",
       "      <td>-0.115244</td>\n",
       "      <td>-0.092222</td>\n",
       "      <td>-0.359144</td>\n",
       "    </tr>\n",
       "    <tr>\n",
       "      <th>...</th>\n",
       "      <td>...</td>\n",
       "      <td>...</td>\n",
       "      <td>...</td>\n",
       "      <td>...</td>\n",
       "      <td>...</td>\n",
       "      <td>...</td>\n",
       "      <td>...</td>\n",
       "      <td>...</td>\n",
       "      <td>...</td>\n",
       "      <td>...</td>\n",
       "      <td>...</td>\n",
       "      <td>...</td>\n",
       "      <td>...</td>\n",
       "      <td>...</td>\n",
       "      <td>...</td>\n",
       "      <td>...</td>\n",
       "      <td>...</td>\n",
       "      <td>...</td>\n",
       "      <td>...</td>\n",
       "      <td>...</td>\n",
       "      <td>...</td>\n",
       "    </tr>\n",
       "    <tr>\n",
       "      <th>120367</th>\n",
       "      <td>1.0</td>\n",
       "      <td>1.0</td>\n",
       "      <td>1.0</td>\n",
       "      <td>0.0</td>\n",
       "      <td>1.0</td>\n",
       "      <td>0.0</td>\n",
       "      <td>1.0</td>\n",
       "      <td>0.0</td>\n",
       "      <td>1.0</td>\n",
       "      <td>0.0</td>\n",
       "      <td>...</td>\n",
       "      <td>-0.181136</td>\n",
       "      <td>-0.267640</td>\n",
       "      <td>-0.011493</td>\n",
       "      <td>2.167984</td>\n",
       "      <td>-0.033909</td>\n",
       "      <td>-0.012003</td>\n",
       "      <td>-0.099575</td>\n",
       "      <td>-0.115244</td>\n",
       "      <td>-0.092222</td>\n",
       "      <td>-0.359144</td>\n",
       "    </tr>\n",
       "    <tr>\n",
       "      <th>120368</th>\n",
       "      <td>1.0</td>\n",
       "      <td>1.0</td>\n",
       "      <td>1.0</td>\n",
       "      <td>0.0</td>\n",
       "      <td>1.0</td>\n",
       "      <td>0.0</td>\n",
       "      <td>1.0</td>\n",
       "      <td>0.0</td>\n",
       "      <td>1.0</td>\n",
       "      <td>0.0</td>\n",
       "      <td>...</td>\n",
       "      <td>-0.307443</td>\n",
       "      <td>-0.273396</td>\n",
       "      <td>-0.011493</td>\n",
       "      <td>-0.115203</td>\n",
       "      <td>-0.239639</td>\n",
       "      <td>-0.133779</td>\n",
       "      <td>-0.099575</td>\n",
       "      <td>-0.115244</td>\n",
       "      <td>-0.092222</td>\n",
       "      <td>-0.359144</td>\n",
       "    </tr>\n",
       "    <tr>\n",
       "      <th>120369</th>\n",
       "      <td>1.0</td>\n",
       "      <td>1.0</td>\n",
       "      <td>1.0</td>\n",
       "      <td>0.0</td>\n",
       "      <td>1.0</td>\n",
       "      <td>0.0</td>\n",
       "      <td>1.0</td>\n",
       "      <td>0.0</td>\n",
       "      <td>1.0</td>\n",
       "      <td>0.0</td>\n",
       "      <td>...</td>\n",
       "      <td>-0.285709</td>\n",
       "      <td>-0.243287</td>\n",
       "      <td>-0.011493</td>\n",
       "      <td>-0.115203</td>\n",
       "      <td>-0.079887</td>\n",
       "      <td>-0.128484</td>\n",
       "      <td>-0.099575</td>\n",
       "      <td>-0.115244</td>\n",
       "      <td>-0.092222</td>\n",
       "      <td>-0.359144</td>\n",
       "    </tr>\n",
       "    <tr>\n",
       "      <th>120370</th>\n",
       "      <td>1.0</td>\n",
       "      <td>1.0</td>\n",
       "      <td>0.0</td>\n",
       "      <td>1.0</td>\n",
       "      <td>1.0</td>\n",
       "      <td>0.0</td>\n",
       "      <td>1.0</td>\n",
       "      <td>0.0</td>\n",
       "      <td>1.0</td>\n",
       "      <td>0.0</td>\n",
       "      <td>...</td>\n",
       "      <td>-0.019867</td>\n",
       "      <td>0.032567</td>\n",
       "      <td>-0.010819</td>\n",
       "      <td>-0.115203</td>\n",
       "      <td>-0.147684</td>\n",
       "      <td>-0.123189</td>\n",
       "      <td>-0.099575</td>\n",
       "      <td>-0.115244</td>\n",
       "      <td>-0.092222</td>\n",
       "      <td>-0.359144</td>\n",
       "    </tr>\n",
       "    <tr>\n",
       "      <th>120371</th>\n",
       "      <td>1.0</td>\n",
       "      <td>1.0</td>\n",
       "      <td>1.0</td>\n",
       "      <td>0.0</td>\n",
       "      <td>1.0</td>\n",
       "      <td>0.0</td>\n",
       "      <td>1.0</td>\n",
       "      <td>0.0</td>\n",
       "      <td>1.0</td>\n",
       "      <td>0.0</td>\n",
       "      <td>...</td>\n",
       "      <td>-0.307443</td>\n",
       "      <td>-0.273396</td>\n",
       "      <td>-0.011493</td>\n",
       "      <td>-0.115203</td>\n",
       "      <td>-0.239639</td>\n",
       "      <td>-0.133779</td>\n",
       "      <td>-0.099575</td>\n",
       "      <td>-0.115244</td>\n",
       "      <td>-0.092222</td>\n",
       "      <td>-0.359144</td>\n",
       "    </tr>\n",
       "  </tbody>\n",
       "</table>\n",
       "<p>120372 rows × 244 columns</p>\n",
       "</div>"
      ],
      "text/plain": [
       "        0    2    5    6    7    8    9    10   13   14   ...       255  \\\n",
       "0       1.0  1.0  0.0  1.0  1.0  0.0  1.0  0.0  1.0  0.0  ... -0.307443   \n",
       "1       1.0  1.0  0.0  1.0  1.0  0.0  1.0  0.0  1.0  0.0  ... -0.280669   \n",
       "2       1.0  1.0  0.0  1.0  1.0  0.0  1.0  0.0  1.0  0.0  ... -0.139244   \n",
       "3       1.0  1.0  0.0  1.0  1.0  0.0  1.0  0.0  1.0  0.0  ... -0.307443   \n",
       "4       1.0  1.0  0.0  1.0  1.0  0.0  1.0  0.0  1.0  0.0  ... -0.307443   \n",
       "...     ...  ...  ...  ...  ...  ...  ...  ...  ...  ...  ...       ...   \n",
       "120367  1.0  1.0  1.0  0.0  1.0  0.0  1.0  0.0  1.0  0.0  ... -0.181136   \n",
       "120368  1.0  1.0  1.0  0.0  1.0  0.0  1.0  0.0  1.0  0.0  ... -0.307443   \n",
       "120369  1.0  1.0  1.0  0.0  1.0  0.0  1.0  0.0  1.0  0.0  ... -0.285709   \n",
       "120370  1.0  1.0  0.0  1.0  1.0  0.0  1.0  0.0  1.0  0.0  ... -0.019867   \n",
       "120371  1.0  1.0  1.0  0.0  1.0  0.0  1.0  0.0  1.0  0.0  ... -0.307443   \n",
       "\n",
       "             256       257       258       259       260       261       262  \\\n",
       "0      -0.273396 -0.011493 -0.115203 -0.239639 -0.133779 -0.099575 -0.115244   \n",
       "1      -0.235759 -0.011156 -0.112122 -0.150022 -0.117895 -0.099575 -0.115244   \n",
       "2      -0.037393  0.009752  0.066589  0.110258  0.046238 -0.099575  0.195532   \n",
       "3      -0.273396 -0.011493 -0.115203 -0.239639 -0.133779 -0.099575 -0.115244   \n",
       "4      -0.273396 -0.011493 -0.115203 -0.239639 -0.133779 -0.099575 -0.115244   \n",
       "...          ...       ...       ...       ...       ...       ...       ...   \n",
       "120367 -0.267640 -0.011493  2.167984 -0.033909 -0.012003 -0.099575 -0.115244   \n",
       "120368 -0.273396 -0.011493 -0.115203 -0.239639 -0.133779 -0.099575 -0.115244   \n",
       "120369 -0.243287 -0.011493 -0.115203 -0.079887 -0.128484 -0.099575 -0.115244   \n",
       "120370  0.032567 -0.010819 -0.115203 -0.147684 -0.123189 -0.099575 -0.115244   \n",
       "120371 -0.273396 -0.011493 -0.115203 -0.239639 -0.133779 -0.099575 -0.115244   \n",
       "\n",
       "             263       264  \n",
       "0      -0.092222 -0.359144  \n",
       "1       0.495993 -0.359144  \n",
       "2       0.299921  1.034726  \n",
       "3      -0.092222 -0.359144  \n",
       "4      -0.092222 -0.359144  \n",
       "...          ...       ...  \n",
       "120367 -0.092222 -0.359144  \n",
       "120368 -0.092222 -0.359144  \n",
       "120369 -0.092222 -0.359144  \n",
       "120370 -0.092222 -0.359144  \n",
       "120371 -0.092222 -0.359144  \n",
       "\n",
       "[120372 rows x 244 columns]"
      ]
     },
     "execution_count": 46,
     "metadata": {},
     "output_type": "execute_result"
    }
   ],
   "source": [
    "# проверка преобразования данных в pipeline перед моделью машинного обучения\n",
    "\n",
    "pip[:3].fit_transform(data_load, data_load['target'])"
   ]
  },
  {
   "cell_type": "markdown",
   "metadata": {
    "id": "kgI1mbS4B1yc"
   },
   "source": [
    "# расчеты метрик"
   ]
  },
  {
   "cell_type": "code",
   "execution_count": 47,
   "metadata": {
    "id": "JVC6DnbE0T6C"
   },
   "outputs": [],
   "source": [
    "# функция для расчета максимального скора. \n",
    "\n",
    "def image(y_pred, y):\n",
    "  # возвращает список numpy первым столбцом идет f1_score вторым порог деления\n",
    "  f1 = []\n",
    "  q = [i/100 for i in range(10, 91)]\n",
    "  for j in q:\n",
    "    y_pr = [1 if i > j else 0 for i in y_pred[:,1]]\n",
    "    f1.append([f1_score(y, y_pr, average='macro'), j])\n",
    "  return np.array(f1)"
   ]
  },
  {
   "cell_type": "code",
   "execution_count": 48,
   "metadata": {
    "id": "cGMXDSe58Ss0"
   },
   "outputs": [
    {
     "data": {
      "text/plain": [
       "array([[0.1000609 , 0.8999391 ],\n",
       "       [0.90946924, 0.09053076],\n",
       "       [0.11036676, 0.88963324],\n",
       "       ...,\n",
       "       [0.86368114, 0.13631886],\n",
       "       [0.32943214, 0.67056786],\n",
       "       [0.91544691, 0.08455309]])"
      ]
     },
     "execution_count": 48,
     "metadata": {},
     "output_type": "execute_result"
    }
   ],
   "source": [
    "# разделяем на трайн и тест\n",
    "\n",
    "x_1, x_2, y_1, y_2 = train_test_split(data_load.drop('target', axis=1), data_load['target'], test_size=0.3, random_state=13)\n",
    "pip.fit(x_1, y_1)\n",
    "y_pred_test = pip.predict_proba(x_2)\n",
    "y_pred_train = pip.predict_proba(x_1)\n",
    "y_pred_test"
   ]
  },
  {
   "cell_type": "code",
   "execution_count": 49,
   "metadata": {
    "id": "YGMZ3OXIF4kM"
   },
   "outputs": [
    {
     "data": {
      "image/png": "[encoded data removed]",
      "text/plain": [
       "<Figure size 1080x432 with 1 Axes>"
      ]
     },
     "metadata": {
      "needs_background": "light"
     },
     "output_type": "display_data"
    },
    {
     "name": "stdout",
     "output_type": "stream",
     "text": [
      "наилуший порог test: 0.44, f1 = 0.8672505176550109\n",
      "наилуший порог train: 0.5, f1 = 0.869890132058843\n",
      "значение f1 test при пороге от train: 0.8668963753432282\n"
     ]
    }
   ],
   "source": [
    "# построим график f1_score логистической регрессии по порогам разбиения\n",
    "\n",
    "from sklearn.metrics import f1_score, precision_recall_curve\n",
    "\n",
    "f1_train = image(y_pred_train, y_1)\n",
    "f1_test = image(y_pred_test, y_2)\n",
    "plt.figure(figsize=(15,6))\n",
    "plt.plot(f1_train[:, 1], f1_train[:, 0], c='red', label='train')\n",
    "plt.plot(f1_test[:, 1], f1_test[:, 0], c='green', label='test')\n",
    "plt.legend()\n",
    "plt.grid()\n",
    "plt.show()\n",
    "\n",
    "th_train = np.argmax(f1_train[:, 0])\n",
    "th_test = np.argmax(f1_test[:, 0])\n",
    "\n",
    "print(f'наилуший порог test: {f1_test[th_test][1]}, f1 = {f1_test[th_test][0]}')\n",
    "print(f'наилуший порог train: {f1_train[th_train][1]}, f1 = {f1_train[th_train][0]}')\n",
    "print(f'значение f1 test при пороге от train: {f1_test[th_train][0]}')"
   ]
  },
  {
   "cell_type": "code",
   "execution_count": 50,
   "metadata": {
    "id": "mqxnS17ylLOY"
   },
   "outputs": [],
   "source": [
    "# подключаем xgboost\n",
    "\n",
    "from xgboost.sklearn import XGBClassifier\n",
    "\n",
    "pip_xgb = Pipeline([('ful', Preprocess_ful()),\n",
    "                ('transform', FeatureUnion(pip_transform)), \n",
    "                ('drop_column', Drop_column_lasso()),\n",
    "                ('LR', XGBClassifier(eta=0.01, reg_alpha=0.0001, n_estimators=500,  \n",
    "                                     random_state=13, eval_metric='auc', n_jobs=-1, \n",
    "                                     max_depth=5,  objective='binary:logistic'))])  # n_est=150"
   ]
  },
  {
   "cell_type": "code",
   "execution_count": 51,
   "metadata": {
    "id": "9iqFwbeD60s6"
   },
   "outputs": [
    {
     "data": {
      "image/png": "[encoded data removed]",
      "text/plain": [
       "<Figure size 1080x432 with 1 Axes>"
      ]
     },
     "metadata": {
      "needs_background": "light"
     },
     "output_type": "display_data"
    },
    {
     "data": {
      "image/png": "[encoded data removed]",
      "text/plain": [
       "<Figure size 432x288 with 1 Axes>"
      ]
     },
     "metadata": {
      "needs_background": "light"
     },
     "output_type": "display_data"
    }
   ],
   "source": [
    "# построим график f1_score xgboost по порогам разбиения\n",
    "\n",
    "pip_xgb.fit(x_1, y_1)\n",
    "y_pred_test = pip_xgb.predict_proba(x_2)\n",
    "y_pred_train = pip_xgb.predict_proba(x_1)\n",
    "f1_train = image(y_pred_train, y_1)\n",
    "f1_test = image(y_pred_test, y_2)\n",
    "plt.figure(figsize=(15,6))\n",
    "plt.plot(f1_train[:, 1], f1_train[:, 0], c='red', label='train')\n",
    "plt.plot(f1_test[:, 1], f1_test[:, 0], c='green', label='test')\n",
    "plt.legend()\n",
    "plt.grid()\n",
    "plt.show()\n",
    "\n",
    "pr, rec, th, = precision_recall_curve(y_2, pip_xgb.predict_proba(x_2)[:, 1])\n",
    "x = range(len(rec))\n",
    "plt.plot(x, pr, c='red', label='precision')\n",
    "plt.plot(x, rec, c='green', label='recall')\n",
    "plt.legend()\n",
    "plt.grid()\n",
    "plt.show()"
   ]
  },
  {
   "cell_type": "code",
   "execution_count": 52,
   "metadata": {
    "id": "3nHSVfVQ8Fsg"
   },
   "outputs": [
    {
     "name": "stdout",
     "output_type": "stream",
     "text": [
      "лучший порог 0.3\n",
      "0.8676975313422652\n"
     ]
    },
    {
     "data": {
      "text/plain": [
       "'Записано'"
      ]
     },
     "execution_count": 52,
     "metadata": {},
     "output_type": "execute_result"
    }
   ],
   "source": [
    "# лучший порог разбиения и метрика\n",
    "\n",
    "gg = image(y_pred_test, y_2)\n",
    "threshold = gg[:,1][np.argmax(gg[:,0])]\n",
    "print(f'лучший порог {threshold}')\n",
    "print(f1_score(y_2, [1 if i>threshold else 0 for i in y_pred_test[:,1]], average='macro'))\n",
    "\n",
    "\n",
    "from save_file_param import save_json\n",
    "save_json('xgb', threshold)"
   ]
  },
  {
   "cell_type": "code",
   "execution_count": 53,
   "metadata": {
    "id": "XHLggNzlMnkg"
   },
   "outputs": [
    {
     "name": "stdout",
     "output_type": "stream",
     "text": [
      "f1_score=  0.8676695257116745\n"
     ]
    },
    {
     "data": {
      "text/plain": [
       "array([[14993,  3260],\n",
       "       [ 1512, 16347]])"
      ]
     },
     "execution_count": 53,
     "metadata": {},
     "output_type": "execute_result"
    }
   ],
   "source": [
    "# нахождение лучшего порога через гармоническое среднее\n",
    "\n",
    "from sklearn.metrics import precision_recall_curve, f1_score, confusion_matrix\n",
    "pres, rec, thres = precision_recall_curve(y_2,  pip_xgb.predict_proba(x_2)[:, 1])\n",
    "q = 1 ** 2\n",
    "x = (1+q) * pres * rec / (q*pres + rec)\n",
    "threshold = np.argmax(x, axis=0)\n",
    "y_pred_out = [1 if i > thres[threshold] else 0 for i in pip_xgb.predict_proba(x_2)[:, 1]]\n",
    "print('f1_score= ', f1_score(y_2, y_pred_out, average='macro'))\n",
    "confusion_matrix(y_2, y_pred_out)"
   ]
  },
  {
   "cell_type": "code",
   "execution_count": 54,
   "metadata": {
    "id": "_MJKzE9iIZh2"
   },
   "outputs": [],
   "source": [
    "# подбор параметров через гридсерч\n",
    "\n",
    "from sklearn.model_selection import GridSearchCV\n",
    "\n",
    "score = 'f1'\n",
    "param = {\n",
    "    'n_estimators': [50, 150, 500, 1000],\n",
    "    'eta': [0.0001, 0.001, 0.01, 0.1],\n",
    "    'max_depth': [3, 5, 8, 12],\n",
    "    'reg_alpha': [0.0001, 0.001, 0.01]\n",
    "}"
   ]
  },
  {
   "cell_type": "code",
   "execution_count": null,
   "metadata": {
    "id": "T2P8yhrKKRr3"
   },
   "outputs": [],
   "source": []
  },
  {
   "cell_type": "code",
   "execution_count": 55,
   "metadata": {
    "colab": {
     "background_save": true,
     "base_uri": "https://localhost:8080/"
    },
    "id": "RPK2AJhRLU_u",
    "outputId": "220e5a22-9670-4249-a830-ccc4f35a50fa"
   },
   "outputs": [],
   "source": [
    "# adf = pip_xgb[:3].fit_transform(x_1, y_1)\n",
    "# import time\n",
    "# start = time.time()\n",
    "# print(start)\n",
    "# xg = XGBClassifier( eval_metric='rmse', random_state=13, tree_method='gpu_hist', predictor='gpu_predictor', n_jobs=-1)\n",
    "# grid_search = GridSearchCV(estimator=xg, param_grid=param, scoring=score, verbose=1, cv=2)\n",
    "# grid_search.fit(adf, y_1)\n",
    "# print(time.time() - start)\n",
    "# grid_search.best_params_, grid_search.best_score_"
   ]
  },
  {
   "cell_type": "code",
   "execution_count": 56,
   "metadata": {
    "colab": {
     "base_uri": "https://localhost:8080/"
    },
    "id": "CDMuToKCQ3ea",
    "outputId": "488a2aba-0d16-47ff-809b-fe66121a6cf1"
   },
   "outputs": [],
   "source": [
    "# grid_search.best_params_, grid_search.best_score_\n",
    "# {'eta': 0.0001, 'max_depth': 3, 'n_estimators': 50, 'reg_alpha': 0.0001}\n",
    "# {'eta': 0.01, 'max_depth': 5, 'n_estimators': 500, 'reg_alpha': 0.0001} "
   ]
  },
  {
   "cell_type": "code",
   "execution_count": 57,
   "metadata": {},
   "outputs": [],
   "source": [
    "# сохранение модели в pickle\n",
    "\n",
    "import pickle\n",
    "with open('models/model.pkl', 'wb') as f:\n",
    "    pickle.dump(pip_xgb, f)"
   ]
  },
  {
   "cell_type": "code",
   "execution_count": 58,
   "metadata": {},
   "outputs": [],
   "source": [
    "# сохранение модели в dill\n",
    "\n",
    "import dill\n",
    "with open('models/model_dill.pkl', 'wb') as f:\n",
    "    dill.dump(pip_xgb, f)"
   ]
  },
  {
   "cell_type": "code",
   "execution_count": 59,
   "metadata": {
    "id": "aRVOKTso6y9P"
   },
   "outputs": [],
   "source": [
    "# pickle.dump?"
   ]
  },
  {
   "cell_type": "markdown",
   "metadata": {
    "id": "HpQ7T98_6031"
   },
   "source": [
    "# кластеризация и PCA"
   ]
  },
  {
   "cell_type": "code",
   "execution_count": 60,
   "metadata": {},
   "outputs": [
    {
     "data": {
      "text/html": [
       "<div>\n",
       "<style scoped>\n",
       "    .dataframe tbody tr th:only-of-type {\n",
       "        vertical-align: middle;\n",
       "    }\n",
       "\n",
       "    .dataframe tbody tr th {\n",
       "        vertical-align: top;\n",
       "    }\n",
       "\n",
       "    .dataframe thead th {\n",
       "        text-align: right;\n",
       "    }\n",
       "</style>\n",
       "<table border=\"1\" class=\"dataframe\">\n",
       "  <thead>\n",
       "    <tr style=\"text-align: right;\">\n",
       "      <th></th>\n",
       "      <th>0</th>\n",
       "      <th>2</th>\n",
       "      <th>5</th>\n",
       "      <th>6</th>\n",
       "      <th>7</th>\n",
       "      <th>8</th>\n",
       "      <th>9</th>\n",
       "      <th>10</th>\n",
       "      <th>13</th>\n",
       "      <th>14</th>\n",
       "      <th>...</th>\n",
       "      <th>255</th>\n",
       "      <th>256</th>\n",
       "      <th>257</th>\n",
       "      <th>258</th>\n",
       "      <th>259</th>\n",
       "      <th>260</th>\n",
       "      <th>261</th>\n",
       "      <th>262</th>\n",
       "      <th>263</th>\n",
       "      <th>264</th>\n",
       "    </tr>\n",
       "  </thead>\n",
       "  <tbody>\n",
       "    <tr>\n",
       "      <th>0</th>\n",
       "      <td>1.0</td>\n",
       "      <td>1.0</td>\n",
       "      <td>0.0</td>\n",
       "      <td>1.0</td>\n",
       "      <td>1.0</td>\n",
       "      <td>0.0</td>\n",
       "      <td>1.0</td>\n",
       "      <td>0.0</td>\n",
       "      <td>1.0</td>\n",
       "      <td>0.0</td>\n",
       "      <td>...</td>\n",
       "      <td>-0.307443</td>\n",
       "      <td>-0.273396</td>\n",
       "      <td>-0.011493</td>\n",
       "      <td>-0.115203</td>\n",
       "      <td>-0.239639</td>\n",
       "      <td>-0.133779</td>\n",
       "      <td>-0.099575</td>\n",
       "      <td>-0.115244</td>\n",
       "      <td>-0.092222</td>\n",
       "      <td>-0.359144</td>\n",
       "    </tr>\n",
       "    <tr>\n",
       "      <th>1</th>\n",
       "      <td>1.0</td>\n",
       "      <td>1.0</td>\n",
       "      <td>0.0</td>\n",
       "      <td>1.0</td>\n",
       "      <td>1.0</td>\n",
       "      <td>0.0</td>\n",
       "      <td>1.0</td>\n",
       "      <td>0.0</td>\n",
       "      <td>1.0</td>\n",
       "      <td>0.0</td>\n",
       "      <td>...</td>\n",
       "      <td>-0.280669</td>\n",
       "      <td>-0.235759</td>\n",
       "      <td>-0.011156</td>\n",
       "      <td>-0.112122</td>\n",
       "      <td>-0.150022</td>\n",
       "      <td>-0.117895</td>\n",
       "      <td>-0.099575</td>\n",
       "      <td>-0.115244</td>\n",
       "      <td>0.495993</td>\n",
       "      <td>-0.359144</td>\n",
       "    </tr>\n",
       "    <tr>\n",
       "      <th>2</th>\n",
       "      <td>1.0</td>\n",
       "      <td>1.0</td>\n",
       "      <td>0.0</td>\n",
       "      <td>1.0</td>\n",
       "      <td>1.0</td>\n",
       "      <td>0.0</td>\n",
       "      <td>1.0</td>\n",
       "      <td>0.0</td>\n",
       "      <td>1.0</td>\n",
       "      <td>0.0</td>\n",
       "      <td>...</td>\n",
       "      <td>-0.139244</td>\n",
       "      <td>-0.037393</td>\n",
       "      <td>0.009752</td>\n",
       "      <td>0.066589</td>\n",
       "      <td>0.110258</td>\n",
       "      <td>0.046238</td>\n",
       "      <td>-0.099575</td>\n",
       "      <td>0.195532</td>\n",
       "      <td>0.299921</td>\n",
       "      <td>1.034726</td>\n",
       "    </tr>\n",
       "    <tr>\n",
       "      <th>3</th>\n",
       "      <td>1.0</td>\n",
       "      <td>1.0</td>\n",
       "      <td>0.0</td>\n",
       "      <td>1.0</td>\n",
       "      <td>1.0</td>\n",
       "      <td>0.0</td>\n",
       "      <td>1.0</td>\n",
       "      <td>0.0</td>\n",
       "      <td>1.0</td>\n",
       "      <td>0.0</td>\n",
       "      <td>...</td>\n",
       "      <td>-0.307443</td>\n",
       "      <td>-0.273396</td>\n",
       "      <td>-0.011493</td>\n",
       "      <td>-0.115203</td>\n",
       "      <td>-0.239639</td>\n",
       "      <td>-0.133779</td>\n",
       "      <td>-0.099575</td>\n",
       "      <td>-0.115244</td>\n",
       "      <td>-0.092222</td>\n",
       "      <td>-0.359144</td>\n",
       "    </tr>\n",
       "    <tr>\n",
       "      <th>4</th>\n",
       "      <td>1.0</td>\n",
       "      <td>1.0</td>\n",
       "      <td>0.0</td>\n",
       "      <td>1.0</td>\n",
       "      <td>1.0</td>\n",
       "      <td>0.0</td>\n",
       "      <td>1.0</td>\n",
       "      <td>0.0</td>\n",
       "      <td>1.0</td>\n",
       "      <td>0.0</td>\n",
       "      <td>...</td>\n",
       "      <td>-0.307443</td>\n",
       "      <td>-0.273396</td>\n",
       "      <td>-0.011493</td>\n",
       "      <td>-0.115203</td>\n",
       "      <td>-0.239639</td>\n",
       "      <td>-0.133779</td>\n",
       "      <td>-0.099575</td>\n",
       "      <td>-0.115244</td>\n",
       "      <td>-0.092222</td>\n",
       "      <td>-0.359144</td>\n",
       "    </tr>\n",
       "    <tr>\n",
       "      <th>...</th>\n",
       "      <td>...</td>\n",
       "      <td>...</td>\n",
       "      <td>...</td>\n",
       "      <td>...</td>\n",
       "      <td>...</td>\n",
       "      <td>...</td>\n",
       "      <td>...</td>\n",
       "      <td>...</td>\n",
       "      <td>...</td>\n",
       "      <td>...</td>\n",
       "      <td>...</td>\n",
       "      <td>...</td>\n",
       "      <td>...</td>\n",
       "      <td>...</td>\n",
       "      <td>...</td>\n",
       "      <td>...</td>\n",
       "      <td>...</td>\n",
       "      <td>...</td>\n",
       "      <td>...</td>\n",
       "      <td>...</td>\n",
       "      <td>...</td>\n",
       "    </tr>\n",
       "    <tr>\n",
       "      <th>120367</th>\n",
       "      <td>1.0</td>\n",
       "      <td>1.0</td>\n",
       "      <td>1.0</td>\n",
       "      <td>0.0</td>\n",
       "      <td>1.0</td>\n",
       "      <td>0.0</td>\n",
       "      <td>1.0</td>\n",
       "      <td>0.0</td>\n",
       "      <td>1.0</td>\n",
       "      <td>0.0</td>\n",
       "      <td>...</td>\n",
       "      <td>-0.181136</td>\n",
       "      <td>-0.267640</td>\n",
       "      <td>-0.011493</td>\n",
       "      <td>2.167984</td>\n",
       "      <td>-0.033909</td>\n",
       "      <td>-0.012003</td>\n",
       "      <td>-0.099575</td>\n",
       "      <td>-0.115244</td>\n",
       "      <td>-0.092222</td>\n",
       "      <td>-0.359144</td>\n",
       "    </tr>\n",
       "    <tr>\n",
       "      <th>120368</th>\n",
       "      <td>1.0</td>\n",
       "      <td>1.0</td>\n",
       "      <td>1.0</td>\n",
       "      <td>0.0</td>\n",
       "      <td>1.0</td>\n",
       "      <td>0.0</td>\n",
       "      <td>1.0</td>\n",
       "      <td>0.0</td>\n",
       "      <td>1.0</td>\n",
       "      <td>0.0</td>\n",
       "      <td>...</td>\n",
       "      <td>-0.307443</td>\n",
       "      <td>-0.273396</td>\n",
       "      <td>-0.011493</td>\n",
       "      <td>-0.115203</td>\n",
       "      <td>-0.239639</td>\n",
       "      <td>-0.133779</td>\n",
       "      <td>-0.099575</td>\n",
       "      <td>-0.115244</td>\n",
       "      <td>-0.092222</td>\n",
       "      <td>-0.359144</td>\n",
       "    </tr>\n",
       "    <tr>\n",
       "      <th>120369</th>\n",
       "      <td>1.0</td>\n",
       "      <td>1.0</td>\n",
       "      <td>1.0</td>\n",
       "      <td>0.0</td>\n",
       "      <td>1.0</td>\n",
       "      <td>0.0</td>\n",
       "      <td>1.0</td>\n",
       "      <td>0.0</td>\n",
       "      <td>1.0</td>\n",
       "      <td>0.0</td>\n",
       "      <td>...</td>\n",
       "      <td>-0.285709</td>\n",
       "      <td>-0.243287</td>\n",
       "      <td>-0.011493</td>\n",
       "      <td>-0.115203</td>\n",
       "      <td>-0.079887</td>\n",
       "      <td>-0.128484</td>\n",
       "      <td>-0.099575</td>\n",
       "      <td>-0.115244</td>\n",
       "      <td>-0.092222</td>\n",
       "      <td>-0.359144</td>\n",
       "    </tr>\n",
       "    <tr>\n",
       "      <th>120370</th>\n",
       "      <td>1.0</td>\n",
       "      <td>1.0</td>\n",
       "      <td>0.0</td>\n",
       "      <td>1.0</td>\n",
       "      <td>1.0</td>\n",
       "      <td>0.0</td>\n",
       "      <td>1.0</td>\n",
       "      <td>0.0</td>\n",
       "      <td>1.0</td>\n",
       "      <td>0.0</td>\n",
       "      <td>...</td>\n",
       "      <td>-0.019867</td>\n",
       "      <td>0.032567</td>\n",
       "      <td>-0.010819</td>\n",
       "      <td>-0.115203</td>\n",
       "      <td>-0.147684</td>\n",
       "      <td>-0.123189</td>\n",
       "      <td>-0.099575</td>\n",
       "      <td>-0.115244</td>\n",
       "      <td>-0.092222</td>\n",
       "      <td>-0.359144</td>\n",
       "    </tr>\n",
       "    <tr>\n",
       "      <th>120371</th>\n",
       "      <td>1.0</td>\n",
       "      <td>1.0</td>\n",
       "      <td>1.0</td>\n",
       "      <td>0.0</td>\n",
       "      <td>1.0</td>\n",
       "      <td>0.0</td>\n",
       "      <td>1.0</td>\n",
       "      <td>0.0</td>\n",
       "      <td>1.0</td>\n",
       "      <td>0.0</td>\n",
       "      <td>...</td>\n",
       "      <td>-0.307443</td>\n",
       "      <td>-0.273396</td>\n",
       "      <td>-0.011493</td>\n",
       "      <td>-0.115203</td>\n",
       "      <td>-0.239639</td>\n",
       "      <td>-0.133779</td>\n",
       "      <td>-0.099575</td>\n",
       "      <td>-0.115244</td>\n",
       "      <td>-0.092222</td>\n",
       "      <td>-0.359144</td>\n",
       "    </tr>\n",
       "  </tbody>\n",
       "</table>\n",
       "<p>120372 rows × 244 columns</p>\n",
       "</div>"
      ],
      "text/plain": [
       "        0    2    5    6    7    8    9    10   13   14   ...       255  \\\n",
       "0       1.0  1.0  0.0  1.0  1.0  0.0  1.0  0.0  1.0  0.0  ... -0.307443   \n",
       "1       1.0  1.0  0.0  1.0  1.0  0.0  1.0  0.0  1.0  0.0  ... -0.280669   \n",
       "2       1.0  1.0  0.0  1.0  1.0  0.0  1.0  0.0  1.0  0.0  ... -0.139244   \n",
       "3       1.0  1.0  0.0  1.0  1.0  0.0  1.0  0.0  1.0  0.0  ... -0.307443   \n",
       "4       1.0  1.0  0.0  1.0  1.0  0.0  1.0  0.0  1.0  0.0  ... -0.307443   \n",
       "...     ...  ...  ...  ...  ...  ...  ...  ...  ...  ...  ...       ...   \n",
       "120367  1.0  1.0  1.0  0.0  1.0  0.0  1.0  0.0  1.0  0.0  ... -0.181136   \n",
       "120368  1.0  1.0  1.0  0.0  1.0  0.0  1.0  0.0  1.0  0.0  ... -0.307443   \n",
       "120369  1.0  1.0  1.0  0.0  1.0  0.0  1.0  0.0  1.0  0.0  ... -0.285709   \n",
       "120370  1.0  1.0  0.0  1.0  1.0  0.0  1.0  0.0  1.0  0.0  ... -0.019867   \n",
       "120371  1.0  1.0  1.0  0.0  1.0  0.0  1.0  0.0  1.0  0.0  ... -0.307443   \n",
       "\n",
       "             256       257       258       259       260       261       262  \\\n",
       "0      -0.273396 -0.011493 -0.115203 -0.239639 -0.133779 -0.099575 -0.115244   \n",
       "1      -0.235759 -0.011156 -0.112122 -0.150022 -0.117895 -0.099575 -0.115244   \n",
       "2      -0.037393  0.009752  0.066589  0.110258  0.046238 -0.099575  0.195532   \n",
       "3      -0.273396 -0.011493 -0.115203 -0.239639 -0.133779 -0.099575 -0.115244   \n",
       "4      -0.273396 -0.011493 -0.115203 -0.239639 -0.133779 -0.099575 -0.115244   \n",
       "...          ...       ...       ...       ...       ...       ...       ...   \n",
       "120367 -0.267640 -0.011493  2.167984 -0.033909 -0.012003 -0.099575 -0.115244   \n",
       "120368 -0.273396 -0.011493 -0.115203 -0.239639 -0.133779 -0.099575 -0.115244   \n",
       "120369 -0.243287 -0.011493 -0.115203 -0.079887 -0.128484 -0.099575 -0.115244   \n",
       "120370  0.032567 -0.010819 -0.115203 -0.147684 -0.123189 -0.099575 -0.115244   \n",
       "120371 -0.273396 -0.011493 -0.115203 -0.239639 -0.133779 -0.099575 -0.115244   \n",
       "\n",
       "             263       264  \n",
       "0      -0.092222 -0.359144  \n",
       "1       0.495993 -0.359144  \n",
       "2       0.299921  1.034726  \n",
       "3      -0.092222 -0.359144  \n",
       "4      -0.092222 -0.359144  \n",
       "...          ...       ...  \n",
       "120367 -0.092222 -0.359144  \n",
       "120368 -0.092222 -0.359144  \n",
       "120369 -0.092222 -0.359144  \n",
       "120370 -0.092222 -0.359144  \n",
       "120371 -0.092222 -0.359144  \n",
       "\n",
       "[120372 rows x 244 columns]"
      ]
     },
     "execution_count": 60,
     "metadata": {},
     "output_type": "execute_result"
    }
   ],
   "source": [
    "# преобразование данных для этапа\n",
    "\n",
    "data_transform = pip_xgb[:3].fit_transform(data_load)\n",
    "data_transform"
   ]
  },
  {
   "cell_type": "code",
   "execution_count": 61,
   "metadata": {},
   "outputs": [
    {
     "data": {
      "text/plain": [
       "0.4797432108278853"
      ]
     },
     "execution_count": 61,
     "metadata": {},
     "output_type": "execute_result"
    }
   ],
   "source": [
    "# проверка скора при простой кластеризации\n",
    "\n",
    "from sklearn.cluster import KMeans\n",
    "k = KMeans(n_clusters=2).fit(data_transform)\n",
    "\n",
    "from sklearn.metrics import f1_score\n",
    "f1_score(data_load['target'], k.labels_, average='macro')"
   ]
  },
  {
   "cell_type": "code",
   "execution_count": 62,
   "metadata": {},
   "outputs": [
    {
     "data": {
      "text/plain": [
       "array([[-0.74564039, -1.4967604 ],\n",
       "       [ 4.01295732,  0.06476715],\n",
       "       [ 3.25818928, -1.5959935 ],\n",
       "       ...,\n",
       "       [-4.91170394,  0.74123956],\n",
       "       [-1.76639166,  1.10627087],\n",
       "       [-3.26649545, -1.89178631]])"
      ]
     },
     "execution_count": 62,
     "metadata": {},
     "output_type": "execute_result"
    }
   ],
   "source": [
    "# подключение PCA\n",
    "\n",
    "from sklearn.decomposition import PCA\n",
    "data_transform_pca = data_transform.copy()\n",
    "pca = PCA(n_components=2).fit_transform(data_transform_pca)\n",
    "pca"
   ]
  },
  {
   "cell_type": "code",
   "execution_count": 63,
   "metadata": {},
   "outputs": [
    {
     "data": {
      "text/plain": [
       "<matplotlib.collections.PathCollection at 0x7faa738f2b80>"
      ]
     },
     "execution_count": 63,
     "metadata": {},
     "output_type": "execute_result"
    },
    {
     "data": {
      "image/png": "[encoded data removed]",
      "text/plain": [
       "<Figure size 432x288 with 1 Axes>"
      ]
     },
     "metadata": {
      "needs_background": "light"
     },
     "output_type": "display_data"
    }
   ],
   "source": [
    "plt.scatter(pca[:,0], pca[:,1], c=data_load['target'])"
   ]
  },
  {
   "cell_type": "code",
   "execution_count": 64,
   "metadata": {},
   "outputs": [
    {
     "data": {
      "text/plain": [
       "array([0.07814541, 0.04038903, 0.03173933, 0.0291833 , 0.02529821,\n",
       "       0.02457945, 0.01878396, 0.01749795, 0.01640344, 0.01554336])"
      ]
     },
     "execution_count": 64,
     "metadata": {},
     "output_type": "execute_result"
    }
   ],
   "source": [
    "pca = PCA(n_components=10).fit(data_transform)\n",
    "pca.explained_variance_ratio_"
   ]
  },
  {
   "cell_type": "code",
   "execution_count": 65,
   "metadata": {},
   "outputs": [
    {
     "data": {
      "text/plain": [
       "(120372, 171)"
      ]
     },
     "execution_count": 65,
     "metadata": {},
     "output_type": "execute_result"
    }
   ],
   "source": [
    "pcaa = PCA(0.99)\n",
    "pcaa.fit_transform(data_transform).shape"
   ]
  },
  {
   "cell_type": "markdown",
   "metadata": {},
   "source": [
    "# 99% информации в 97 колонках. далее применим PCA в модели"
   ]
  },
  {
   "cell_type": "code",
   "execution_count": 66,
   "metadata": {},
   "outputs": [],
   "source": [
    "# добавляем в pipeline PCA\n",
    "\n",
    "from sklearn.decomposition import PCA\n",
    "from sklearn.metrics import f1_score, precision_recall_curve\n",
    "\n",
    "pip_xgb_pca = Pipeline([('ful', Preprocess_ful()),\n",
    "                ('transform', FeatureUnion(pip_transform)), \n",
    "                ('drop_column', Drop_column_lasso()),\n",
    "                ('pca', PCA(0.99)),\n",
    "                ('LR', XGBClassifier(eta=0.01, reg_alpha=0.05, n_estimators=50,  \n",
    "                                     random_state=13, eval_metric='auc', n_jobs=-1, \n",
    "                                     max_depth=11, objective='binary:logistic'))])  # n_est=150"
   ]
  },
  {
   "cell_type": "code",
   "execution_count": 67,
   "metadata": {},
   "outputs": [
    {
     "data": {
      "image/png": "[encoded data removed]",
      "text/plain": [
       "<Figure size 1080x432 with 1 Axes>"
      ]
     },
     "metadata": {
      "needs_background": "light"
     },
     "output_type": "display_data"
    },
    {
     "data": {
      "image/png": "[encoded data removed]",
      "text/plain": [
       "<Figure size 432x288 with 1 Axes>"
      ]
     },
     "metadata": {
      "needs_background": "light"
     },
     "output_type": "display_data"
    }
   ],
   "source": [
    "# отрисовка метрики f1 по порогу разделения\n",
    "\n",
    "pip_xgb_pca.fit(x_1, y_1)\n",
    "y_pred_test = pip_xgb_pca.predict_proba(x_2)\n",
    "y_pred_train = pip_xgb_pca.predict_proba(x_1)\n",
    "f1_train = image(y_pred_train, y_1)\n",
    "f1_test = image(y_pred_test, y_2)\n",
    "plt.figure(figsize=(15,6))\n",
    "plt.plot(f1_train[:, 1], f1_train[:, 0], c='red', label='train')\n",
    "plt.plot(f1_test[:, 1], f1_test[:, 0], c='green', label='test')\n",
    "plt.legend()\n",
    "plt.grid()\n",
    "plt.show()\n",
    "\n",
    "pr, rec, th, = precision_recall_curve(y_2, pip_xgb_pca.predict_proba(x_2)[:, 1])\n",
    "x = range(len(rec))\n",
    "plt.plot(x, pr, c='red', label='precision')\n",
    "plt.plot(x, rec, c='green', label='recall')\n",
    "plt.legend()\n",
    "plt.grid()\n",
    "plt.show()"
   ]
  },
  {
   "cell_type": "code",
   "execution_count": 68,
   "metadata": {},
   "outputs": [
    {
     "data": {
      "text/plain": [
       "'Записано'"
      ]
     },
     "execution_count": 68,
     "metadata": {},
     "output_type": "execute_result"
    }
   ],
   "source": [
    "# лучший порог\n",
    "\n",
    "gg = image(y_pred_test, y_2)\n",
    "threshold = gg[:,1][np.argmax(gg[:,0])]\n",
    "f1_score(y_2, [1 if i>threshold else 0 for i in y_pred_test[:,1]], average='macro')\n",
    "\n",
    "from save_file_param import save_json\n",
    "save_json('xgb_pca', threshold)"
   ]
  },
  {
   "cell_type": "code",
   "execution_count": 69,
   "metadata": {},
   "outputs": [],
   "source": [
    "import dill\n",
    "with open('models/model_pca_dill.pkl', 'wb') as f:\n",
    "    dill.dump(pip_xgb_pca, f)"
   ]
  },
  {
   "cell_type": "markdown",
   "metadata": {},
   "source": [
    "# попробуем подобрать параметры через gridsearch"
   ]
  },
  {
   "cell_type": "code",
   "execution_count": 70,
   "metadata": {},
   "outputs": [],
   "source": [
    "# adf = pip_xgb_pca[:4].fit_transform(x_1, y_1)\n",
    "# import time\n",
    "# start = time.time()\n",
    "# print(start)\n",
    "# xg = XGBClassifier( eval_metric='rmse', random_state=13, tree_method='gpu_hist', predictor='gpu_predictor', n_jobs=-1)\n",
    "# grid_search = GridSearchCV(estimator=xg, param_grid=param, scoring=score, verbose=1, cv=2)\n",
    "# grid_search.fit(adf, y_1)\n",
    "# print(time.time() - start)\n",
    "# grid_search.best_params_, grid_search.best_score_\n",
    "# {'eta': 0.1, 'max_depth': 12, 'n_estimators': 1000, 'reg_alpha': 0.001}"
   ]
  },
  {
   "cell_type": "code",
   "execution_count": null,
   "metadata": {},
   "outputs": [],
   "source": []
  }
 ],
 "metadata": {
  "colab": {
   "collapsed_sections": [],
   "name": "preprocessing_2.ipynb",
   "provenance": []
  },
  "kernelspec": {
   "display_name": "venv_megafon",
   "language": "python",
   "name": "venv_megafon"
  },
  "language_info": {
   "codemirror_mode": {
    "name": "ipython",
    "version": 3
   },
   "file_extension": ".py",
   "mimetype": "text/x-python",
   "name": "python",
   "nbconvert_exporter": "python",
   "pygments_lexer": "ipython3",
   "version": "3.9.12"
  }
 },
 "nbformat": 4,
 "nbformat_minor": 1
}
