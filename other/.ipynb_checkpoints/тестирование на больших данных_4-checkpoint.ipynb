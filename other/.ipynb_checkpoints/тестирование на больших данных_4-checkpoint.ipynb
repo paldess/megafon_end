{
 "cells": [
  {
   "cell_type": "code",
   "execution_count": 1,
   "id": "6b443938",
   "metadata": {},
   "outputs": [],
   "source": [
    "# импорт необходимых элементов\n",
    "import statistics\n",
    "from scipy.stats import iqr\n",
    "import json\n",
    "from datetime import datetime\n",
    "with open('to_model/parametres.json', 'r') as f:\n",
    "    param_json = json.load(f)"
   ]
  },
  {
   "cell_type": "code",
   "execution_count": 2,
   "id": "1fb7276c",
   "metadata": {},
   "outputs": [
    {
     "name": "stderr",
     "output_type": "stream",
     "text": [
      "/home/pavel/anaconda3/envs/venv_megafon/lib/python3.9/site-packages/xgboost/compat.py:36: FutureWarning: pandas.Int64Index is deprecated and will be removed from pandas in a future version. Use pandas.Index with the appropriate dtype instead.\n",
      "  from pandas import MultiIndex, Int64Index\n"
     ]
    },
    {
     "data": {
      "text/plain": [
       "[('ful', Preprocess_ful()),\n",
       " ('transform',\n",
       "  FeatureUnion(transformer_list=[('dummy_15',\n",
       "                                  Pipeline(steps=[('column_dummy',\n",
       "                                                   Preprocessing(aggfunc='median',\n",
       "                                                                 column='15',\n",
       "                                                                 norm='norm')),\n",
       "                                                  ('one_hot',\n",
       "                                                   OneHotEncoder(handle_unknown='ignore',\n",
       "                                                                 sparse=False))])),\n",
       "                                 ('dummy_24',\n",
       "                                  Pipeline(steps=[('column_dummy',\n",
       "                                                   Preprocessing(aggfunc='median',\n",
       "                                                                 column='24',\n",
       "                                                                 norm='norm')),\n",
       "                                                  ('one_hot',\n",
       "                                                   OneHotEncoder(handle_unknown='ignore',\n",
       "                                                                 s...\n",
       "                                                   Preprocessing(aggfunc='median',\n",
       "                                                                 column='3',\n",
       "                                                                 norm='transform')),\n",
       "                                                  ('standardscale',\n",
       "                                                   StandardScaler())])),\n",
       "                                 ('4',\n",
       "                                  Pipeline(steps=[('column_4',\n",
       "                                                   Preprocessing(aggfunc='median',\n",
       "                                                                 column='4',\n",
       "                                                                 norm='transform')),\n",
       "                                                  ('standardscale',\n",
       "                                                   StandardScaler())])),\n",
       "                                 ('5',\n",
       "                                  Pipeline(steps=[('column_5',\n",
       "                                                   Preprocessing(aggfunc='median',\n",
       "                                                                 column='5',\n",
       "                                                                 norm='transform')),\n",
       "                                                  ('standardscale',\n",
       "                                                   StandardScaler())])), ...])),\n",
       " ('drop_column', Drop_column_lasso()),\n",
       " ('LR',\n",
       "  XGBClassifier(base_score=0.5, booster='gbtree', colsample_bylevel=1,\n",
       "                colsample_bynode=1, colsample_bytree=1, enable_categorical=False,\n",
       "                eta=0.01, eval_metric='auc', gamma=0, gpu_id=-1,\n",
       "                importance_type=None, interaction_constraints='',\n",
       "                learning_rate=0.00999999978, max_delta_step=0, max_depth=5,\n",
       "                min_child_weight=1, missing=nan, monotone_constraints='()',\n",
       "                n_estimators=500, n_jobs=-1, num_parallel_tree=1,\n",
       "                predictor='auto', random_state=13, reg_alpha=0.0001, reg_lambda=1,\n",
       "                scale_pos_weight=1, subsample=1, tree_method='exact',\n",
       "                validate_parameters=1, verbosity=None))]"
      ]
     },
     "execution_count": 2,
     "metadata": {},
     "output_type": "execute_result"
    }
   ],
   "source": [
    "# импорт модели без PCA\n",
    "\n",
    "import dill\n",
    "with open('models/model_dill.pkl', 'rb') as f:\n",
    "    pipeline = dill.load(f)\n",
    "pipeline.steps"
   ]
  },
  {
   "cell_type": "code",
   "execution_count": 3,
   "id": "47e427d9",
   "metadata": {},
   "outputs": [],
   "source": [
    "import pandas as pd\n",
    "import numpy as np\n",
    "import dask.dataframe as dd\n",
    "from sklearn.metrics import f1_score"
   ]
  },
  {
   "cell_type": "code",
   "execution_count": 4,
   "id": "042a732c",
   "metadata": {},
   "outputs": [
    {
     "data": {
      "text/plain": [
       "(831653, 259)"
      ]
     },
     "execution_count": 4,
     "metadata": {},
     "output_type": "execute_result"
    }
   ],
   "source": [
    "# загрузка датасета\n",
    "\n",
    "data = pd.read_csv('git_ignore_files/data_merge_asof.csv')\n",
    "data.shape"
   ]
  },
  {
   "cell_type": "code",
   "execution_count": 5,
   "id": "706a7d93",
   "metadata": {},
   "outputs": [],
   "source": [
    "# целевая переменная\n",
    "\n",
    "target = data['target']"
   ]
  },
  {
   "cell_type": "code",
   "execution_count": null,
   "id": "cbb10ded",
   "metadata": {},
   "outputs": [],
   "source": [
    "# предикт всех данных\n",
    "\n",
    "%time x = pipeline.predict_proba(data.drop('target', axis=1))[:, 1]"
   ]
  },
  {
   "cell_type": "code",
   "execution_count": null,
   "id": "a8495d4c",
   "metadata": {},
   "outputs": [],
   "source": [
    "# импорт для загрузки параметров\n",
    "\n",
    "from save_file_param import open_json\n",
    "\n",
    "param_json = open_json()\n",
    "param_json"
   ]
  },
  {
   "cell_type": "code",
   "execution_count": null,
   "id": "419593e0",
   "metadata": {},
   "outputs": [],
   "source": [
    "# по сохраненному порогу делаем предикт\n",
    "\n",
    "y_pred = [1 if i > param_json['xgb'] else 0 for i in x]\n",
    "f1_score(target, y_pred, average='macro')"
   ]
  },
  {
   "cell_type": "markdown",
   "id": "c6c89858",
   "metadata": {},
   "source": [
    "# f1_score average='macro' с обработкой признаков по отсечению выбросов\n",
    "0.6665310210885361"
   ]
  },
  {
   "cell_type": "markdown",
   "id": "f616e67a",
   "metadata": {},
   "source": [
    "# проверим на модели с PCA"
   ]
  },
  {
   "cell_type": "code",
   "execution_count": null,
   "id": "18d23bc9",
   "metadata": {},
   "outputs": [],
   "source": [
    "# загрузка модели с PCA\n",
    "\n",
    "with open('models/model_pca_dill.pkl', 'rb') as f:\n",
    "    pipeline_pca = dill.load(f)\n",
    "pipeline_pca.steps"
   ]
  },
  {
   "cell_type": "code",
   "execution_count": null,
   "id": "4c5aaee9",
   "metadata": {},
   "outputs": [],
   "source": [
    "# предикт модели с PCA\n",
    "\n",
    "y_pred = [1 if i > param_json['xgb_pca'] else 0 for i in pipeline_pca.predict_proba(data)[:, 1]]\n",
    "f1_score(target, y_pred, average='macro')"
   ]
  },
  {
   "cell_type": "markdown",
   "id": "33ba7694",
   "metadata": {},
   "source": [
    "# тк модель с PCA показывает результат  хуже,  - далее будем испольовать без PCA"
   ]
  },
  {
   "cell_type": "code",
   "execution_count": null,
   "id": "8b712210",
   "metadata": {},
   "outputs": [],
   "source": []
  }
 ],
 "metadata": {
  "kernelspec": {
   "display_name": "venv_megafon",
   "language": "python",
   "name": "venv_megafon"
  },
  "language_info": {
   "codemirror_mode": {
    "name": "ipython",
    "version": 3
   },
   "file_extension": ".py",
   "mimetype": "text/x-python",
   "name": "python",
   "nbconvert_exporter": "python",
   "pygments_lexer": "ipython3",
   "version": "3.9.12"
  }
 },
 "nbformat": 4,
 "nbformat_minor": 5
}
