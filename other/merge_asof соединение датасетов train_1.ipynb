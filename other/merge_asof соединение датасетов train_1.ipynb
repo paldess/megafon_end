{
 "cells": [
  {
   "cell_type": "code",
   "execution_count": 1,
   "id": "b0e8e698",
   "metadata": {},
   "outputs": [],
   "source": [
    "import pandas as pd\n",
    "import numpy as np\n",
    "import dask.dataframe as dd"
   ]
  },
  {
   "cell_type": "code",
   "execution_count": 2,
   "id": "c5359caf",
   "metadata": {},
   "outputs": [],
   "source": [
    "# загрузка датасета features.csv и data_train.csv\n",
    "\n",
    "data = dd.read_csv('git_ignore_files/features.csv', sep='\\t', blocksize=150e6)\n",
    "data_train = pd.read_csv('git_ignore_files/data_train.csv')"
   ]
  },
  {
   "cell_type": "code",
   "execution_count": 3,
   "id": "58c05026",
   "metadata": {},
   "outputs": [],
   "source": [
    "# загрузка датасета на сервер\n",
    "\n",
    "import dask.dataframe as dd\n",
    "from sqlalchemy import create_engine\n",
    "from dask.utils import tmpfile\n",
    "import tqdm\n",
    "import time\n",
    "\n",
    "\n",
    "\n",
    "for i in data.partitions:\n",
    "    with tmpfile() as f:\n",
    "        try:\n",
    "            db = 'mysql+pymysql://:@bainel.ru/megafon'\n",
    "            i.to_sql('features', db, if_exists='append')\n",
    "        except:\n",
    "            db = 'mysql+pymysql://:@bainel.ru/megafon'\n",
    "            i.to_sql('features', db, if_exists='append')"
   ]
  },
  {
   "cell_type": "code",
   "execution_count": null,
   "id": "d88d19bc",
   "metadata": {},
   "outputs": [],
   "source": [
    "# отделение из features.csv только абонентов из data_train.csv\n",
    "\n",
    "list_id_train = list(data_train['id'].unique())   # список id-шников\n",
    "data = data[data['id'].isin(list_id_train)].compute()"
   ]
  },
  {
   "cell_type": "code",
   "execution_count": null,
   "id": "5d6ace69",
   "metadata": {},
   "outputs": [],
   "source": [
    "# data.to_csv('files_model/id_train.csv', index=False)"
   ]
  },
  {
   "cell_type": "code",
   "execution_count": null,
   "id": "c4cfaf53",
   "metadata": {},
   "outputs": [],
   "source": [
    "# data = pd.read_csv('files_model/id_train.csv')\n",
    "# data_train = pd.read_csv('data_train.csv')"
   ]
  },
  {
   "cell_type": "code",
   "execution_count": null,
   "id": "3435cbdb",
   "metadata": {},
   "outputs": [],
   "source": [
    "# объединение датасетов\n",
    "\n",
    "data_end = pd.merge_asof(data_train.sort_values('buy_time'), data.sort_values('buy_time'), on='buy_time', by='id', direction='nearest')"
   ]
  },
  {
   "cell_type": "code",
   "execution_count": null,
   "id": "496b680e",
   "metadata": {},
   "outputs": [],
   "source": [
    "# просмотр полученного результата\n",
    "\n",
    "data_end"
   ]
  },
  {
   "cell_type": "code",
   "execution_count": null,
   "id": "98c0db81",
   "metadata": {},
   "outputs": [],
   "source": [
    "# это просто пустая строка))))"
   ]
  },
  {
   "cell_type": "code",
   "execution_count": null,
   "id": "3417b694",
   "metadata": {},
   "outputs": [],
   "source": [
    "# сохранение объединенных данных для дальнейшего тестирования\n",
    "\n",
    "data_end.to_csv('git_ignore_files/data_merge_asof.csv', index=False)"
   ]
  },
  {
   "cell_type": "code",
   "execution_count": null,
   "id": "a91d851d",
   "metadata": {},
   "outputs": [],
   "source": [
    "# data = pd.read_csv('files_model/data_merge_asof.csv')"
   ]
  },
  {
   "cell_type": "code",
   "execution_count": null,
   "id": "eb48a79f",
   "metadata": {},
   "outputs": [],
   "source": [
    "# просмотр соотношения классов в датасете\n",
    "\n",
    "data_end[data_end['target'] == 1].shape[0] / data_end.shape[0] "
   ]
  },
  {
   "cell_type": "code",
   "execution_count": null,
   "id": "43878bf0",
   "metadata": {},
   "outputs": [],
   "source": [
    "# отбор случайных индексов строк нулевых классов в количестве равном кол-ву строк единичных\n",
    "\n",
    "ind_0 = np.random.choice(data_end[data_end['target'] == 0].index, size=data_end[data_end['target'] == 1].shape[0], replace=False)\n"
   ]
  },
  {
   "cell_type": "code",
   "execution_count": null,
   "id": "884c8f1a",
   "metadata": {},
   "outputs": [],
   "source": [
    "# получение индексов единичных классов и объединение в один список\n",
    "\n",
    "ind_1 = data_end[data_end['target'] == 1].index\n",
    "print(ind_1.shape)\n",
    "ind_ = list(ind_0) + list(ind_1)\n",
    "len(ind_)"
   ]
  },
  {
   "cell_type": "code",
   "execution_count": null,
   "id": "ba281669",
   "metadata": {},
   "outputs": [],
   "source": [
    "# получение датасета для тренировки с уравненными классами \n",
    "\n",
    "data_train = data_end[data_end.index.isin(list(ind_))]\n",
    "data_train"
   ]
  },
  {
   "cell_type": "code",
   "execution_count": null,
   "id": "061f5d9a",
   "metadata": {},
   "outputs": [],
   "source": [
    "# сохранение в файл для дальнейшей обработки\n",
    "\n",
    "data_train.to_csv('git_ignore_files/data_train_merge_120k.csv', index=False)"
   ]
  }
 ],
 "metadata": {
  "kernelspec": {
   "display_name": "venv_megafon",
   "language": "python",
   "name": "venv_megafon"
  },
  "language_info": {
   "codemirror_mode": {
    "name": "ipython",
    "version": 3
   },
   "file_extension": ".py",
   "mimetype": "text/x-python",
   "name": "python",
   "nbconvert_exporter": "python",
   "pygments_lexer": "ipython3",
   "version": "3.9.12"
  }
 },
 "nbformat": 4,
 "nbformat_minor": 5
}
